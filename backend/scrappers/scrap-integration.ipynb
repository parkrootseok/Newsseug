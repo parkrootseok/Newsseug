{
 "cells": [
  {
   "cell_type": "markdown",
   "metadata": {},
   "source": [
    "## 동아일보"
   ]
  },
  {
   "cell_type": "code",
   "execution_count": 1,
   "metadata": {},
   "outputs": [
    {
     "name": "stderr",
     "output_type": "stream",
     "text": [
      "INFO:root:category (base_url): 정치 (https://www.donga.com/news/Politics)\n",
      "DEBUG:urllib3.connectionpool:Starting new HTTPS connection (1): www.donga.com:443\n",
      "DEBUG:urllib3.connectionpool:https://www.donga.com:443 \"GET /news/Politics HTTP/11\" 200 None\n",
      "DEBUG:root:Scraping article: https://www.donga.com/news/Politics/article/all/20241008/130173324/1\n",
      "DEBUG:urllib3.connectionpool:Starting new HTTPS connection (1): www.donga.com:443\n",
      "DEBUG:urllib3.connectionpool:https://www.donga.com:443 \"GET /news/Politics/article/all/20241008/130173324/1 HTTP/11\" 200 None\n",
      "INFO:root:page_category: 정치\n",
      "INFO:root:category: 정치\n",
      "DEBUG:root:Scraping article: https://www.donga.com/news/Politics/article/all/20241008/130173341/1\n",
      "DEBUG:urllib3.connectionpool:Starting new HTTPS connection (1): www.donga.com:443\n",
      "DEBUG:urllib3.connectionpool:https://www.donga.com:443 \"GET /news/Politics/article/all/20241008/130173341/1 HTTP/11\" 200 None\n",
      "INFO:root:page_category: 정치\n"
     ]
    },
    {
     "name": "stdout",
     "output_type": "stream",
     "text": [
      "{'title': '북한, 이틀 연속 쓰레기 풍선 살포…26번째 도발', 'time': '2024-10-08T05:42:00+09:00', 'content': '북한이 이틀 연속으로 대남 쓰레기 풍선 살포에 나섰다.\\n합동참모본부는 8일 오전 5시 9분쯤 국방부 출입기자단에 보낸 휴대전화 문자메시지를 통해 “현재 풍향을 고려할 때 대남 쓰레기 풍선이 경기북부 및 수도권 지역으로 이동 가능성이 있다”라면서 이처럼 밝혔다.\\n합참은 “국민들께서는 적재물 낙하에 주의하시고, 떨어진 풍선을 발견하시면 접촉하지 마시고 가까운 군부대나 경찰에 신고해주시기 바란다”라고 당부했다.\\n이번 쓰레기 풍선 부양은 북한이 지난 5월 28일 1차 ‘오물 풍선’을 살포한 이후 26번째 도발이다.\\n(서울=뉴스1)', 'source_url': 'https://www.donga.com/news/Politics/article/all/20241008/130173324/1', 'category': 'politics'}\n"
     ]
    },
    {
     "name": "stderr",
     "output_type": "stream",
     "text": [
      "INFO:root:category: 정치\n"
     ]
    },
    {
     "name": "stdout",
     "output_type": "stream",
     "text": [
      "{'title': '北 김정은 “군사초강국, 핵강국 향한 발걸음 더 빨라질 것”', 'time': '2024-10-08T06:29:00+09:00', 'content': '김정은 북한 노동당 총비서가 “군사초강국, 핵강국으로 향한 발걸음이 더 빨라질 것”이라면서 군사력 강화 행보를 멈추지 않을 것임을 재확인했다. 동시에 우리를 향해 “소름이 끼친다”라며 대화 의사가 전혀 없음을 강조했다.\\n노동당 기관지 노동신문은 8일 김 총비서가 전날인 7일 김정은국방종합대학을 창립 60주년을 맞아 한 연설에서 “조선반도(한반도)에서 전략적 힘의 균형의 파괴는 곧 전쟁을 의미한다”면서 “적을 항상 억제하고 정세를 관리할 수 있는 물리적 힘을 가져야 한다는 우리의 자위국방 건설 논리는 바늘 들어갈 틈도 없이 완벽하고 정당하다”면서 이같이 주장했다.\\n이어 “적들이 우리 국가를 반대하는 무력 사용을 기도한다면 공화국 무력은 모든 공격력을 주저 없이 사용할 것”이라면서 여기에는 ‘핵무기 사용’이 배제되지 않는다고 재차 강조했다.\\n그러면서 “한미 군사동맹이 괴뢰들 스스로가 광고하는 것처럼 핵동맹으로 완전히 변이된 현시점에서 우리 국가의 핵대응태세는 더더욱 한계를 모르는 높이에서 완비돼야 한다”라며 “세계 최대의 핵보유국과 그것을 공동으로 만지작거리려는 가장 간악한 괴뢰들이 우리 앞에 있는 환경하에서 우리의 견해와 선택, 결심은 결코 변할 수 없다”라고도 말했다.\\n김 총비서는 이날 연설에서 남한을 ‘별개의 국가’로 대하겠다는 ‘남북 2국가론’을 재차 언급했다.\\n그는 “대한민국은 의식하는 것조차도 소름이 끼치고 그 인간들과는 마주 서고 싶지도 않다”라며 “과거엔 우리가 그 무슨 ‘남녘 해방’이라는 소리도 많이 했고 ‘무력 통일’이라는 말도 했지만 지금은 전혀 이에 관심이 없으며 두 개 국가를 선언하면서부터는 더더욱 그 나라를 의식하지도 않는다”라고 말했다.\\n(서울=뉴스1)', 'source_url': 'https://www.donga.com/news/Politics/article/all/20241008/130173341/1', 'category': 'politics'}\n"
     ]
    },
    {
     "name": "stderr",
     "output_type": "stream",
     "text": [
      "INFO:root:category (base_url): 경제 (https://www.donga.com/news/Economy)\n",
      "DEBUG:urllib3.connectionpool:Starting new HTTPS connection (1): www.donga.com:443\n",
      "DEBUG:urllib3.connectionpool:https://www.donga.com:443 \"GET /news/Economy HTTP/11\" 200 None\n",
      "DEBUG:root:Scraping article: https://www.donga.com/news/Economy/article/all/20241008/130173355/1\n",
      "DEBUG:urllib3.connectionpool:Starting new HTTPS connection (1): www.donga.com:443\n",
      "DEBUG:urllib3.connectionpool:https://www.donga.com:443 \"GET /news/Economy/article/all/20241008/130173355/1 HTTP/11\" 200 None\n",
      "INFO:root:page_category: 경제\n",
      "INFO:root:category: 경제\n",
      "DEBUG:root:Scraping article: https://www.donga.com/news/Inter/article/all/20241008/130173381/1\n",
      "DEBUG:urllib3.connectionpool:Starting new HTTPS connection (1): www.donga.com:443\n",
      "DEBUG:urllib3.connectionpool:https://www.donga.com:443 \"GET /news/Inter/article/all/20241008/130173381/1 HTTP/11\" 200 None\n",
      "INFO:root:page_category: 국제\n"
     ]
    },
    {
     "name": "stdout",
     "output_type": "stream",
     "text": [
      "{'title': '삼성전자 오늘 3Q 잠정실적 발표…‘핵심’ 반도체 흐름 좋지 않아', 'time': '2024-10-08T06:43:00+09:00', 'content': '영업익 전망치, 한 달새 2조원 하향…SK하이닉스 HBM ‘질주’\\nLG전자, 분기 영업익 1조 달성 관건…신사업 수익성 호조\\n삼성전자(005930) 8일 3분기 잠정 실적을 발표한다. 핵심 사업인 반도체 부문에서 고대역폭메모리(HBM) 경쟁력 회복 지연 등 영향으로 한 달 전보다 영업이익 컨센서스(증권사 평균 전망치)가 2조 원 이상 하향되면서 다시 SK하이닉스(000660)에 추월당할 수 있다는 우려가 나온다.\\n같은 날 3분기 잠정실적을 발표하는 LG전자(066570)는 가전구독, 웹OS 등 신사업 성과를 바탕으로 분기 영업이익 1조 원을 유지할지가 관건이다.\\n금융정보업체 에프앤가이드에 따르면 이날 발표되는 삼성전자의 3분기 잠정 실적 컨센서스(증권사 전망치 평균)는 매출 80조9003억 원, 영업이익 10조7717억 원으로 집계됐다.\\n지난해 3분기 실적보다는 매출과 영업이익이 각각 20%, 342.7% 증가한 수준이지만, 지난달 컨센서스(매출 83조6217억 원, 영업이익 13조5441억 원)보다는 매출과 영업이익 모두 2조 원 이상 하향됐다.\\n이날 사업부문별 세부 실적은 공개되지 않지만 업계에서는 디바이스 설루션(DS·반도체) 부문의 영업이익을 5조~6조 원으로 추정한다. 파운드리(반도체 위탁생산)와 시스템LSI 등 비메모리 사업에서는 적자를 지속할 것으로 전망된다. 특히 일회성 비용 발생과 원·달러 환율 하락으로 수익성이 악화할 것으로 예상했다.\\n경쟁사 대비 늦은 HBM 시장 진입과 거시 경제 부진에 따른 PC·모바일 등 완제품 시장의 더딘 회복도 부정적인 요인으로 지목됐다. 최근 메모리 반도체 시장에서는 인공지능(AI) 서버 수요의 폭발적인 증가로 HBM이 높은 성장세를 보인 반면, 범용 D램은 수요가 부진한 양극화 현상이 나타나고 있다.\\n이에 엔비디아에 HBM을 가장 많이 공급하고 있는 SK하이닉스의 분기 영업이익이 삼성전자 DS 부문을 앞설 수 있다는 관측도 나온다. SK하이닉스의 3분기 영업이익 컨센서스는 6조7559억 원으로 집계됐다.\\n이는 HBM 경쟁력 우위 덕분이다. SK하이닉스는 최선단 HBM인 HBM3E 12단 제품을 지난달 세계 최초로 양산했다. 삼성전자의 HBM3E 12단 제품은 아직 품질 검증 단계로 알려졌다.\\n올해 1분기에도 SK하이닉스(2조8860억 원)가 삼성전자 DS 부문(1조9100억 원)보다 영업이익이 많았지만, 2분기에는 삼성전자 DS 부문(6조4500억 원)이 SK하이닉스(5조4685억 원)를 앞서면서 상반기 전체 영업이익은 55억 원 더 많았다.\\n양사의 다른 분위기는 주가에도 반영됐다. SK하이닉스의 전날(7일) 종가는 엔비디아의 랠리와 실적 기대감에 힘입어 전일 대비 6.2% 오른 18만4900원을 기록했다. 반면 삼성전자는 최근 한 달간 9.6% 떨어졌고 전날 장중 6만 원대가 무너지기도 했다.\\n이날 잠정 실적을 발표하는 LG전자의 컨센서스는 매출 21조7719억 원, 영업이익 1조154억 원으로 집계됐다. 다만 최근 증권사 보고서에서는 환율 하락과 수요 부진으로 인한 LG이노텍의 저조한 실적으로 LG전자의 영업이익이 1조 원을 밑돌 것으로 전망했다.\\n그럼에도 별도 기준으로는 웹OS, 가전 구독 등 신사업, 냉난방공조(HVAC)와 전장(자동차 전자장치) 등 B2B 사업 성과를 바탕으로 양호한 실적을 낼 것으로 예상했다.\\n메리츠증권은 “가전구독과 웹OS는 매출액 기준 각각 사업부 내 5.4%, 6.6%의 비중으로 규모는 아직 작지만, 수익성 측면에서 이미 기여도가 매우 높다”며 “당사는 구독과 웹OS 가 올해 영업이익 기준으로는 각각의 사업부 내 14.1%, 75.3%의 비중을 차지할 것으로 추정한다”고 밝혔다.\\n(서울=뉴스1)', 'source_url': 'https://www.donga.com/news/Economy/article/all/20241008/130173355/1', 'category': 'economy'}\n"
     ]
    },
    {
     "name": "stderr",
     "output_type": "stream",
     "text": [
      "INFO:root:category: 경제\n",
      "INFO:root:https://www.donga.com/news/Inter/article/all/20241008/130173381/1 는 해당 카테고리가 아니어서 생략합니다. \n",
      "DEBUG:root:Scraping article: https://www.donga.com/news/Economy/article/all/20241008/130173463/1\n",
      "DEBUG:urllib3.connectionpool:Starting new HTTPS connection (1): www.donga.com:443\n",
      "DEBUG:urllib3.connectionpool:https://www.donga.com:443 \"GET /news/Economy/article/all/20241008/130173463/1 HTTP/11\" 200 None\n",
      "INFO:root:page_category: 경제\n",
      "INFO:root:category: 경제\n"
     ]
    },
    {
     "name": "stdout",
     "output_type": "stream",
     "text": [
      "{'title': '8월 경상수지 66억 달러 흑자…“9월 흑자폭 확대 전망”', 'time': '2024-10-08T08:13:00+09:00', 'content': '8월 경상수지 66억 달러…4개월 연속 흑자\\n상품수지 65.9억 달러…수출·수입 증가폭 축소\\n여행수지 적자폭 확대…여름 휴가철 영향\\n8월 경상수지가 66억 달러를 기록해 4개월째 흑자를 이어갔다. 상품수지는 17개월째 흑자를 이어갔다. 다만, 반도체와 정보통신기기 등이 수출 호조세에도 승용차 부진에 흑자폭은 축소됐다. 여행수지는 여름철 성수기 영향으로 적자폭이 확대됐다.\\n한은이 8일 발표한 ‘2024년 8월 국제수지(잠정)’에 따르면 8월 우리나라 경상수지는 66억 달러 흑자를 기록했다. 지난 5개월 이후 4개월 연속 흑자지만 7월(83억3000만 달러)보다는 흑자폭이 축소됐다. 다만, 8월 기준으로는 2021년(67억 달러 흑자) 이후 3년 만에 최대치다.\\n경상수지는 지난해 4월 적자(13억7000만 달러)로 기록했지만 5월(23억 달러) 흑자로 돌아선 후 지난 3월까지 플러스를 기록했다. 그러다 4월에는 해외 배당 지급에 2억8000만 달러 적자를 보였다가 5월(89억2250억 달러)부터 흑자를 이어오고 있다.\\n경상수지의 가장 큰 비중을 차지하는 상품수지는 65억9000만 달러로 17개월 연속 흑자를 보였다. 7월(83억3000만 달러)보다는 흑자폭이 축소됐다. 다만 1년 전(52억 달러)보다는 흑자폭이 확대됐다.\\n수출은 574억5000만 달러로 전년동월대비 7.1% 증가해 11개월 연속 올랐다. 다만 7월(16.3%)보다는 상승폭이 축소됐다. 통관기준으로 반도체, 정보통신기기 등을 중심으로 증가세 지속했지만, 승용차와 화공품 등은 감소했다.\\n지역별로는 동남아, 중국, 미국 등으로의 수출은 증가세가 지속되고 EU 지역으로의 수출은 증가 전환했다.\\n수입은 508억6000만 달러로 4.9% 늘었다. 7월(9.4%)보다 상승폭이 축소됐다. 다만, 통관기준으로 원자재, 자본재, 소비재 모두 2개월 연속 증가세를 이어갔다.\\n서비스수지는 여행, 가공서비스 등을 중심으로 12억3000만 달러 적자를 기록하며 전월(-23억8000만 달러)보다 적자폭이 축소됐다. 운송수지는 컨테이너선 운임 상승에 5억9000만 달러로 흑자폭이 확대됐다.\\n반면, 여행수지는 14억2000만 달러 적자로 전월(-12억6000만 달러)보다 적자폭이 확대됐다. 여름철 해외여행 성수기에 따른 영향이다.\\n본원소득수지는 배당소득을 중심으로 16억9000만 달러 흑자를 보이며 7월(31억5000만 달러)보다 흑자폭이 줄었다. 증권투자 분기 배당 지급에 배당소득수지가 11억8000만 달러로 전월(27억9000만 달러)보다 줄어든 영향이다. 이자소득수지는 7억 달러를 보였다.\\n한은 관계자는 “8월 경상수지는 상품수지와 본원소득수지를 중심으로 축소됐지만, 월평균을 상회한 수준으로 양호한 것으로 평가된다”면서 “9월은 수출이 호조세를 보인 만큼 경상수지 흑자폭은 8월보다 커질 것”이라고 말했다.\\n[서울=뉴시스]', 'source_url': 'https://www.donga.com/news/Economy/article/all/20241008/130173463/1', 'category': 'economy'}\n"
     ]
    },
    {
     "name": "stderr",
     "output_type": "stream",
     "text": [
      "INFO:root:category (base_url): 국제 (https://www.donga.com/news/Inter)\n",
      "DEBUG:urllib3.connectionpool:Starting new HTTPS connection (1): www.donga.com:443\n",
      "DEBUG:urllib3.connectionpool:https://www.donga.com:443 \"GET /news/Inter HTTP/11\" 200 None\n",
      "DEBUG:root:Scraping article: https://www.donga.com/news/Inter/article/all/20241008/130172937/2\n",
      "DEBUG:urllib3.connectionpool:Starting new HTTPS connection (1): www.donga.com:443\n",
      "DEBUG:urllib3.connectionpool:https://www.donga.com:443 \"GET /news/Inter/article/all/20241008/130172937/2 HTTP/11\" 200 None\n",
      "INFO:root:page_category: 국제\n",
      "INFO:root:category: 국제\n",
      "DEBUG:root:Scraping article: https://www.donga.com/news/Inter/article/all/20241008/130172962/2\n",
      "DEBUG:urllib3.connectionpool:Starting new HTTPS connection (1): www.donga.com:443\n",
      "DEBUG:urllib3.connectionpool:https://www.donga.com:443 \"GET /news/Inter/article/all/20241008/130172962/2 HTTP/11\" 200 None\n"
     ]
    },
    {
     "name": "stdout",
     "output_type": "stream",
     "text": [
      "{'title': '美선 대선 변수로, 유럽과도 충돌… ‘골칫덩이’ 이스라엘', 'time': '2024-10-08T03:00:00+09:00', 'content': '해리스, 언론서 이스라엘 질문세례\\n“당내 ‘네타냐후 선거개입’ 인식 커져”\\n佛 “무기 공급 중단해야”… 이 발끈\\n레바논 파병 아일랜드와도 신경전\\n7일(현지 시간) 1년을 맞은 ‘가자 전쟁’이 중동 전역으로 확전되는 양상을 띠며 다음 달 미국 대선 판도를 흔드는 ‘옥토버 서프라이즈(October surprise·10월의 이변)’가 될 수 있다고 영국 BBC가 전망했다. 중동 전쟁이 확대되며 이번 대선 결과를 좌우할 수 있는 변수로 부상했다는 뜻이다.\\n이스라엘이 최근 레바논으로 전선을 확대하고 인명 피해가 늘어나면서 이스라엘과 유럽 국가 간 갈등도 고조되고 있다. 에마뉘엘 마크롱 프랑스 대통령이 5일 “외교적 해법으로 돌아가야 한다”며 이스라엘에 대한 무기 공급 중단 필요성을 주장하자 베냐민 네타냐후 이스라엘 총리는 곧바로 “부끄러운 줄 알라”며 반박했다.\\n한편 이스라엘은 7일 헤즈볼라와의 지상전이 벌어지고 있는 레바논 남부에 군대를 추가 투입하는 등 지상전 강도를 높이고 있다. 헤즈볼라와 하마스도 같은 날 이스라엘 갈릴리와 텔아비브 등으로 각각 35발과 5발의 로켓을 쐈다. 헤즈볼라의 차기 수장 하솀 사피엣딘은 3일 진행된 이스라엘의 공습 뒤 여전히 연락이 끊긴 상태다. 다만, 한때 연락이 끊겨 사망설이 제기됐던 에스마일 가니 이란 혁명수비대 쿠드스군 사령관은 ‘건강한 상태’라고 로이터통신이 보도했다.\\n● “네타냐후, 미 대선 개입 의도 있어”\\n6일 공개된 CBS 시사프로그램 ‘60분’ 예고편에서 카멀라 해리스 미국 민주당 대선 후보 겸 부통령은 사회자로부터 ‘미국은 네타냐후 총리에 대한 영향력이 없느냐’ ‘이스라엘이 우방은 맞냐’ 등 압박성 질문을 연이어 받았다. 해리스 후보는 1일 이란이 이스라엘에 대규모 탄도미사일을 발사했을 때 “이스라엘이 방어할 수 있도록 지원하는 게 미국의 의무”라면서도 “이스라엘에 인도주의 지원과 전쟁 종식을 위한 압박을 가하는 걸 멈추지 않겠다”는 원론적 답변만 내놓았다.\\n미 의회 전문 매체 더힐은 “민주당에선 네타냐후 총리가 해리스 후보의 패배를 바라며 ‘선거 개입’에 나섰다는 인식이 퍼지고 있다”고 전했다.\\n민주당이 이 같은 우려를 표하는 건 네타냐후 총리와 도널드 트럼프 공화당 대선 후보 겸 전 대통령이 긴밀한 관계를 유지해 왔기 때문이다. 이 같은 우려가 제기되자 조 바이든 대통령은 4일 백악관 브리핑에서 “나보다 이스라엘을 더 많이 도운 행정부는 없다. 하나도, 하나도, 하나도 없다”고 강조했다.\\n● 프랑스 “무기 공급 중단”에 네타냐후 반발\\n프랑스 일간 르몽드에 따르면 마크롱 대통령은 5일 앵테르 라디오에 출연해 “지금 최선의 선택은 정치적 해법으로 돌아가는 것과 (이스라엘의) 전쟁 수행에 필요한 무기 공급 중단”이라고 말했다. 프랑스는 그간 이스라엘에 공격 무기는 공급하지 않고, 군 관련 장비만 공급했는데 이 역시 중단을 고려하겠단 뜻으로 풀이된다.\\n네타냐후 총리는 즉각 “마크롱 대통령과 다른 서방 지도자들은 이스라엘에 대한 무기 수출 금지를 요구하는 부끄러운 짓을 하고 있다”고 비판했다. 다음 날 마크롱 대통령은 네타냐후 총리와 통화를 하는 등 갈등 진화에 나섰지만 무기 공급 중단 주장을 철회하지는 않았다.\\n이스라엘은 사실상 레바논과의 국경인 ‘블루라인’ 인근에 주둔하는 유엔평화유지군 소속 아일랜드군에 철수를 요구하며 아일랜드와도 신경전을 벌였다. 마이클 히긴스 아일랜드 대통령은 5일 성명에서 “이스라엘이 유엔의 권한 아래에 있는 군대에 철수하라고 요구하고 있지만, 이는 터무니없는 주장”이라며 거부했다.', 'source_url': 'https://www.donga.com/news/Inter/article/all/20241008/130172937/2', 'category': 'world'}\n"
     ]
    },
    {
     "name": "stderr",
     "output_type": "stream",
     "text": [
      "INFO:root:page_category: 국제\n",
      "INFO:root:category: 국제\n"
     ]
    },
    {
     "name": "stdout",
     "output_type": "stream",
     "text": [
      "{'title': '국경절 특수도 사라진 中… ‘경기회복 패키지’ 푼다', 'time': '2024-10-08T03:00:00+09:00', 'content': '오늘 공공지출 확대 등 부양책 발표\\n중국이 지난달 24일 경기 부양을 위해 대규모 통화 완화 정책을 발표한 데 이어 8일 공공지출 확대 등을 포함한 재정 정책을 발표한다. 중국 정부가 최근 ‘올해 국내총생산(GDP) 증가율 5%’라는 목표치 달성에 빨간불이 켜지자, 유동성 공급에 이어 직접 돈을 풀어 경기 회복의 불씨를 되살리려는 시도로 풀이된다.\\n7일 중국 국무원 신문판공실에 따르면 중국 거시경제 담당 부처인 국가발전개혁위원회의 정산제(鄭柵潔) 주임(장관)은 8일 ‘패키지 증량(增量)정책의 시스템적 이행 및 경제 상승 구조 개선’ 등에 대한 기자회견을 연다. 증량정책이란 정부 투자와 국유기업 자금 운용 확대 등을 포함한 확장적 경제정책을 일컫는다. 이에 따라 대규모 국채 발행을 통해 공공 지출을 확대하는 방안 등이 발표될 것이란 전망이 나온다.\\n중국 중앙은행 런민(人民)은행은 지난달 24일 “지급준비율(지준율)을 0.5%포인트 낮춰 1조 위안(약 190조 원)의 유동성을 공급한다”고 밝혔다. 동시에 단기 기준금리 역할을 하는 7일물 역환매조건부채권(레포) 금리를 0.2%포인트 낮추고, 기존 주택담보대출 금리까지 평균 0.5%포인트 낮추겠다고 했다.\\n이 같은 부양 정책에도 중국에선 내수 부진이 이어지고 있고, 이를 극복하려면 추가 경기 부양책이 필요하다는 지적이 나온다. 실제로 6일 홍콩 사우스차이나모닝포스트(SCMP)에 따르면 중국 최대 관광 성수기로 꼽히는 국경절 연휴(1∼7일) 동안에도 관광객은 크게 늘었지만, 정작 1인당 지출액은 줄었다. SCMP는 업계 관계자를 인용해 “여행객들이 돈 쓰기를 주저하면서 코로나19 시기보다 더 암울하다”고 전했다.\\n중국 정부가 지난달 지준율과 정책 금리를 동시에 낮춘 데 이어 공공 지출 확대에도 나서는 것을 두고 경제에 대한 위기감이 커지고 있다는 것을 보여준다는 분석이 나온다. 실제로 중국의 국내총생산(GDP) 증가율은 1분기(1∼3월) 5.3%로 목표치를 상회했지만, 2분기(4∼6월)는 시장 전망보다 낮은 4.7%까지 꺾였다. 3분기(7∼9월) 역시 4%대에 그칠 것으로 예상된다.\\n지난달 26일 시진핑(習近平) 중국 국가주석 주재로 열린 중국공산당 중앙정치국회의에서도 경제 위기에 대한 우려가 제기됐다. 당시 중앙정치국은 “중국 경제의 펀더멘털(기초 여건)과 잠재력 등은 변하지 않았지만, 동시에 현재 경제 운영에 몇 가지 새로운 상황과 문제가 나타났다”고 진단했다. 일반적으로 해마다 4, 7, 12월 회의에서 경제 분야를 다뤄 왔지만, 올해는 9월 회의에서도 경제를 전면에 내세운 것도 위기감을 반영한 조치로 풀이된다. 이 회의에선 재정 및 통화 정책을 통해 재정 지출을 늘리고, 정부 투자가 주도적 역할을 해야 한다는 주문이 나왔다.\\n8일 발표되는 재정 정책은 대규모 공공 지출 확대에 초점이 맞춰질 것이란 전망이 많다. 블룸버그통신은 앞서 3일 “중국 정부가 최대 10조 위안(약 1900조 원) 규모의 재정 팽창 정책을 준비하고 있다”고 전했다. 현재 중국 정부의 재정 여건을 감안하면 초장기 특별 국채나 지방 특별 채권을 통해 최대 10조 위안까지 자금 조달이 가능하다는 분석이다. 또 중산층 이하의 세금 감면과 의료·보육 분야 서비스 강화 등 민생 지원 대책과 대형 인프라 투자 계획이 포함될 것이라는 전망도 나온다.', 'source_url': 'https://www.donga.com/news/Inter/article/all/20241008/130172962/2', 'category': 'world'}\n"
     ]
    },
    {
     "name": "stderr",
     "output_type": "stream",
     "text": [
      "INFO:root:category (base_url): 사회_사건 (https://www.donga.com/news/Society/Event)\n",
      "DEBUG:urllib3.connectionpool:Starting new HTTPS connection (1): www.donga.com:443\n",
      "DEBUG:urllib3.connectionpool:https://www.donga.com:443 \"GET /news/Society/Event HTTP/11\" 200 None\n",
      "DEBUG:root:Scraping article: https://www.donga.com/news/Society/article/all/20241007/130167885/1\n",
      "DEBUG:urllib3.connectionpool:Starting new HTTPS connection (1): www.donga.com:443\n",
      "DEBUG:urllib3.connectionpool:https://www.donga.com:443 \"GET /news/Society/article/all/20241007/130167885/1 HTTP/11\" 200 None\n",
      "INFO:root:page_category: 사회\n",
      "INFO:root:category: 사회_사건\n",
      "DEBUG:root:Scraping article: https://www.donga.com/news/Society/article/all/20241007/130168159/1\n",
      "DEBUG:urllib3.connectionpool:Starting new HTTPS connection (1): www.donga.com:443\n",
      "DEBUG:urllib3.connectionpool:https://www.donga.com:443 \"GET /news/Society/article/all/20241007/130168159/1 HTTP/11\" 200 None\n"
     ]
    },
    {
     "name": "stdout",
     "output_type": "stream",
     "text": [
      "{'title': '“통장계좌, 범죄에 이용됐다”…보이스피싱 막은 ‘이 사람’', 'time': '2024-10-07T14:19:00+09:00', 'content': '하동경찰서, 지역 농협직원 감사장 수여\\n당황하는 시민 설득…800만원 인출 막아\\n경남 하동경찰서가 보이스피싱(전화금융사기)을 예방한 지역농협 직원에게 신고보상금과 감사장을 수여했다.\\n7일 하동경찰서에 따르면 지역농협 직원 A씨는 지난달 27일 “통장계좌가 범죄에 이용됐다”는 경찰관 사칭 보이스피싱에 속은 B씨가 평소와 달리 통장에서 800만원을 인출하려고 하자 이를 수상하게 여겨 경찰에 신고했다.\\nA씨는 당황하는 B씨를 설득해 현금 인출을 막는 등 보이스피싱 피해를 예방했다.\\n경찰 관계자는 “통장이 범죄에 이용되고 있다고 하거나 개인정보를 요구하는 행위는 대부분 전화금융사기”라며 “피해가 발생하지 않도록 각별한 주의를 바란다. 보이스피싱 범죄가 의심되면 즉시 112나 금융감독원 1332에 신고 해 달라”고 말했다.\\n하동경찰서 박동석 서장은 “농협 직원의 세밀한 관심과 신고로 피해를 예방했다”며 “보이스피싱 예방을 위해 지역 금융기관과 지속해서 협력해 나가겠다”고 밝혔다.\\n[하동=뉴시스]', 'source_url': 'https://www.donga.com/news/Society/article/all/20241007/130167885/1', 'category': 'accident'}\n"
     ]
    },
    {
     "name": "stderr",
     "output_type": "stream",
     "text": [
      "INFO:root:page_category: 사회\n",
      "INFO:root:category: 사회_사건\n"
     ]
    },
    {
     "name": "stdout",
     "output_type": "stream",
     "text": [
      "{'title': '교직원 화장실서 불법 촬영한 고교생들 징역형 집유 확정', 'time': '2024-10-07T14:49:00+09:00', 'content': '1심 실형→2심 집유로 감형…상고 안해\\n고등학교 재학 중 교직원 화장실에 불법촬영 카메라를 설치하고 촬영물을 공유한 혐의를 받는 10대들에게 선고된 징역형 집행유예가 확정됐다.\\n7일 법조계에 따르면 2심 선고 이후 피고인 A 씨(19)와 B 씨(19), 검찰이 모두 기한 내 상고하지 않아 형이 확정됐다.\\n앞서 대전지법 형사항소 5-3부(재판장 이효선)는 성폭력범죄의처벌에 관한 특례법 위반(카메라 등 이용촬영) 혐의를 받는 A 씨에 대해 징역 1년 6개월에 집행유예 2년을 선고했다.\\n함께 재판에 넘겨진 B 씨에게는 징역 10개월에 집행유예 2년이 내려졌다.\\n1심에서 A 씨는 징역 장기 2년 6개월에 단기 2년, B 씨는 징역 1년 6개월을 각각 선고받았지만 2심 판결로 모두 실형을 면했다.\\n재판부는 이들에게 사회봉사 120시간, 성폭력 치료프로그램 이수 40시간, 아동·청소년 및 장애인 관련 시설 취업제한 5년도 명령했다.\\n재판부는 “A 씨는 1심 선고 이후 성인이 돼 형을 다시 정해야 한다”며 “카메라를 설치해 장기간에 걸쳐 촬영하는 등 수법이 대담하지만 영상에 피해자들의 얼굴이 나오지 않았고 별다른 전과가 없으며 일정 금액을 형사 공탁했다”고 감형 이유를 설명했다.\\n이어 “B 씨의 경우 범행 가담 정도가 가볍지 않고 피해자들이 느꼈을 정신적 충격과 수치심을 고려하면 죄질이 나쁘다”며 “다만 형사 처벌 전력이 없고 당심에서 피해자들을 위해 2800만 원 상당을 공탁한 점을 고려했다”고 판시했다.\\n한편 이들은 고교 3학년이던 지난해 3월 대전의 한 학교 교실에서 여교사의 신체를 총 43차례에 걸쳐 촬영하거나 같은 해 8월 카메라를 구입해 교직원 여자 화장실에 설치해 촬영한 영상을 공유한 혐의로 재판에 넘겨졌다.\\n검찰은 이들이 불법으로 촬영한 영상물이 다른 학생에게까지 전달된 것으로 파악했다. 범행이 발각되자 학교는 이들을 퇴학 처분했다.\\n1심 재판부는 “별다른 처벌 전력이 없으나 촬영한 영상을 유포하기까지 해 죄질이 불량하고 피해자들로부터 용서받지 못했다”며 주범 A 군에게 징역 장기 2년 6개월에 단기 2년, 장비를 제공한 B 씨에게 징역 1년 6개월을 각각 선고했다.\\n(대전=뉴스1)', 'source_url': 'https://www.donga.com/news/Society/article/all/20241007/130168159/1', 'category': 'accident'}\n"
     ]
    },
    {
     "name": "stderr",
     "output_type": "stream",
     "text": [
      "INFO:root:category (base_url): 경제_과학 (https://www.donga.com/news/It/List)\n",
      "DEBUG:urllib3.connectionpool:Starting new HTTPS connection (1): www.donga.com:443\n",
      "DEBUG:urllib3.connectionpool:https://www.donga.com:443 \"GET /news/It/List HTTP/11\" 200 None\n",
      "DEBUG:root:Scraping article: https://www.donga.com/news/Economy/article/all/20241007/130167064/1\n",
      "DEBUG:urllib3.connectionpool:Starting new HTTPS connection (1): www.donga.com:443\n",
      "DEBUG:urllib3.connectionpool:https://www.donga.com:443 \"GET /news/Economy/article/all/20241007/130167064/1 HTTP/11\" 200 None\n",
      "INFO:root:page_category: 경제\n",
      "INFO:root:category: 경제_과학\n",
      "DEBUG:root:Scraping article: https://www.donga.com/news/It/article/all/20241007/130168113/1\n",
      "DEBUG:urllib3.connectionpool:Starting new HTTPS connection (1): www.donga.com:443\n",
      "DEBUG:urllib3.connectionpool:https://www.donga.com:443 \"GET /news/It/article/all/20241007/130168113/1 HTTP/11\" 200 None\n",
      "INFO:root:page_category: IT/의학\n",
      "INFO:root:category: 경제_과학\n",
      "INFO:root:https://www.donga.com/news/It/article/all/20241007/130168113/1 는 해당 카테고리가 아니어서 생략합니다. \n",
      "DEBUG:root:Scraping article: https://www.donga.com/news/It/article/all/20241007/130168764/1\n",
      "DEBUG:urllib3.connectionpool:Starting new HTTPS connection (1): www.donga.com:443\n"
     ]
    },
    {
     "name": "stdout",
     "output_type": "stream",
     "text": [
      "{'title': '“AI가 환자 일기 분석해 감정 체크”…우울증·불안장애, AI로 챙긴다', 'time': '2024-10-07T15:24:00+09:00', 'content': '통신 3사 AI 멘탈케어 사업 본격화\\n생성형 AI와 정신건강 문제 결합\\n국내 이통통신사가 인공지능(AI) 기술을 바탕으로 한 정신건강 관리(멘탈케어) 서비스에 뛰어들고 있다. 우울증이나 과도한 업무로 인한 스트레스 등 최근 현대인들의 정신건강 문제에 대한 관심이 높아지며 생성형 AI와 결합한 헬스케어 시장이 확대되고 있다.\\n7일 정보통신기술(ICT)업계에 따르면 SK텔레콤은 지난달 유쾌한프로젝트, 튜링바이오, 이몰로지 등 디지털 정신건강 관리 기술 역량을 가진 기업들과 업무협약(MOU)을 맺고 AI 정신건강 서비스 출시를 준비하고 있다.\\n목소리나 얼굴 표정만으로도 스트레스와 우울증 징후, 주의 및 집중력 저하 현상을 파악하고 맞춤형 치료를 제공하는 통합 플랫폼을 개발한다는 계획이다.\\n이를 위해 SK텔레콤은 회사가 보유한 멀티모달 AI 기술과 각 회사가 보유한 기술력을 결합한다. 튜링바이오와 이몰로지는 정신건강변화 탐지와 디지털 치료기술을, 유쾌한 프로젝트는 최적의 정신건강 관리 솔루션 개발을 각각 담당하게 된다.\\n향후 SK텔레콤은 펫서비스와도 연계해 반려동물 사후 겪는 ‘펫로스’ 증후군을 겪는 이들에게 AI 정신건강 관리 솔루션을 연계하는 등 서비스를 다변화할 방침이다.\\n실제로 우울증, 불안장애 등 각종 정신건강 문제를 겪는 환자수 증가가 사회적 문제로 확산하면서 헬스케어 중 정신건강 분야에서 첨단 IT 기술을 결합 시도가 가장 활발하게 일어나고 있다.\\n전 세계 시장조사업체 폴라리스마켓리서치는 AI 기반 정신건강 관리 시장 규모가 2023년 9억2153만 달러(약 1조2420억 원)에서 2032년까지 103억3409만 달러(약 13조9262억 원)까지 급성장할 것으로 예측했다.\\nLG유플러스는 지난해 9월 AI 기반 마음관리 플랫폼 ‘답다(답장 받는 다이어리)’를 출시했다. 답다는 이용자가 애플리케이션(앱)에 나와있는 감정 110여개 중 자신에게 맞는 감정을 선택하고 2000자 이내의 일기를 쓰면 12시간 내로 AI ‘마링이’가 보낸 답장을 받을 수 있다.\\n이용자도 늘고 있다. 3월 답다 가입자는 2만 명이었지만 10월 초 기준 회원수는 5만2000명으로 두 배 이상 늘었다. 누적 일기 수도 30만8000여 건으로 소설책 500권을 훌쩍 넘기는 분량이다. LG유플러스가 상반기 ‘헤비유저’(앱을 많이 사용하는 이용자)를 대상으로 인터뷰를 실시한 결과 불안 장애나 지적 장애 등을 겪는 고객의 비중이 높았다. 사회복지사와 특수 교육교사, 보육 교사 등도 답다를 자주 사용하는 것으로 나타났다.\\nLG 유플러스 측은 “지적장애 고객은 마음을 털어놓는 동시에 인간관계 조언을 받는 용도로 사용 중이고 보육교사와 사회복지사들도 자기성찰과 감정 관리에 도움을 받고 있다고 답했다”며 “이용자들이 감정 상태를 보다 객관적으로 확인할 수 있도록 AI 감정 분석 리포트를 제공하는 기능과 단편적인 답장이 아닌 과거까지 연계한 종합적 답장을 제공하는 기능 등을 도입할 계획”이라고 말했다.\\nKT는 과학기술정보통신부와 정보통신산업진흥원(NIPA)이 주관하는 ‘초거대 AI 기반 심리케어 서비스’ 지원사업을 통해 AI 정신건강 플랫폼 구축에 나선다. 한양대학교와 성동구정신건강복지센터, 한국자살예방협회, 한국폭력학대예방협회, 셀렉트스타 등 6개 기관과 컨소시엄을 꾸렸다.\\ufeff 2027년까지 실증 기반의 정신건강 서비스 구축·개발·검증 작업을 진행할 계획이다.\\nKT 정신건강 플랫폼은 일상 속에서 예방과 관리를 할 수 있는 서비스로 간단한 질문에 답변해 현재 상태를 입력하고 자신의 기분을 일기로 작성할 수 있다. 문진 및 일기 내용을 바탕으로 AI가 개인의 감정을 6가지(기쁨, 놀라움, 슬픔, 두려움, 분노, 혐오)로 분석하고 이용자 맞춤형 명상, 웹툰, 게임 등 적합한 콘텐츠를 추천해 주는 식이다. 고위험군 이용자는 거주 지역 인근 심리상담센터나 의료기관을 추천하며 위급시에는 병원, 의원으로 연계되도록 추진 중이다. 동시에 KT는 실제 상담 데이터를 학습한 거대언어모델(LLM) 기반의 ‘AI 챗봇’도 개발 중이다.\\n변순용 서울교육대 윤리교육학과 교수는 “AI가 남들에게 털어놓지 못한 얘기를 하고 감정을 표현하고 여기에 대해 얘기를 나누면서 심리적 안정을 주는 역할을 하는 등 단순 인간을 보조하는 역할 뿐만 아니라 정서적 상호작용이 가능한 수준까지 진화하고 있다”고 말했다.', 'source_url': 'https://www.donga.com/news/Economy/article/all/20241007/130167064/1', 'category': 'science'}\n"
     ]
    },
    {
     "name": "stderr",
     "output_type": "stream",
     "text": [
      "DEBUG:urllib3.connectionpool:https://www.donga.com:443 \"GET /news/It/article/all/20241007/130168764/1 HTTP/11\" 200 None\n",
      "INFO:root:page_category: IT/의학\n",
      "INFO:root:category: 경제_과학\n",
      "INFO:root:https://www.donga.com/news/It/article/all/20241007/130168764/1 는 해당 카테고리가 아니어서 생략합니다. \n",
      "DEBUG:root:Scraping article: https://www.donga.com/news/It/article/all/20241007/130168993/1\n",
      "DEBUG:urllib3.connectionpool:Starting new HTTPS connection (1): www.donga.com:443\n",
      "DEBUG:urllib3.connectionpool:https://www.donga.com:443 \"GET /news/It/article/all/20241007/130168993/1 HTTP/11\" 200 None\n",
      "INFO:root:page_category: IT/의학\n",
      "INFO:root:category: 경제_과학\n",
      "INFO:root:https://www.donga.com/news/It/article/all/20241007/130168993/1 는 해당 카테고리가 아니어서 생략합니다. \n",
      "DEBUG:root:Scraping article: https://www.donga.com/news/It/article/all/20241007/130169174/1\n",
      "DEBUG:urllib3.connectionpool:Starting new HTTPS connection (1): www.donga.com:443\n",
      "DEBUG:urllib3.connectionpool:https://www.donga.com:443 \"GET /news/It/article/all/20241007/130169174/1 HTTP/11\" 200 None\n",
      "INFO:root:page_category: IT/의학\n",
      "INFO:root:category: 경제_과학\n",
      "INFO:root:https://www.donga.com/news/It/article/all/20241007/130169174/1 는 해당 카테고리가 아니어서 생략합니다. \n",
      "DEBUG:root:Scraping article: https://www.donga.com/news/Politics/article/all/20241007/130169233/2\n",
      "DEBUG:urllib3.connectionpool:Starting new HTTPS connection (1): www.donga.com:443\n",
      "DEBUG:urllib3.connectionpool:https://www.donga.com:443 \"GET /news/Politics/article/all/20241007/130169233/2 HTTP/11\" 200 None\n",
      "INFO:root:page_category: 정치\n",
      "INFO:root:category: 경제_과학\n",
      "INFO:root:https://www.donga.com/news/Politics/article/all/20241007/130169233/2 는 해당 카테고리가 아니어서 생략합니다. \n",
      "DEBUG:root:Scraping article: https://www.donga.com/news/Society/article/all/20241007/130169777/1\n",
      "DEBUG:urllib3.connectionpool:Starting new HTTPS connection (1): www.donga.com:443\n",
      "DEBUG:urllib3.connectionpool:https://www.donga.com:443 \"GET /news/Society/article/all/20241007/130169777/1 HTTP/11\" 200 None\n",
      "INFO:root:page_category: 사회\n",
      "INFO:root:category: 경제_과학\n",
      "INFO:root:https://www.donga.com/news/Society/article/all/20241007/130169777/1 는 해당 카테고리가 아니어서 생략합니다. \n",
      "DEBUG:root:Scraping article: https://www.donga.com/news/It/article/all/20241007/130170271/1\n",
      "DEBUG:urllib3.connectionpool:Starting new HTTPS connection (1): www.donga.com:443\n",
      "DEBUG:urllib3.connectionpool:https://www.donga.com:443 \"GET /news/It/article/all/20241007/130170271/1 HTTP/11\" 200 None\n",
      "INFO:root:page_category: IT/의학\n",
      "INFO:root:category: 경제_과학\n",
      "INFO:root:https://www.donga.com/news/It/article/all/20241007/130170271/1 는 해당 카테고리가 아니어서 생략합니다. \n",
      "DEBUG:root:Scraping article: https://www.donga.com/news/It/article/all/20241007/130170656/1\n",
      "DEBUG:urllib3.connectionpool:Starting new HTTPS connection (1): www.donga.com:443\n",
      "DEBUG:urllib3.connectionpool:https://www.donga.com:443 \"GET /news/It/article/all/20241007/130170656/1 HTTP/11\" 200 None\n",
      "INFO:root:page_category: IT/의학\n",
      "INFO:root:category: 경제_과학\n",
      "INFO:root:https://www.donga.com/news/It/article/all/20241007/130170656/1 는 해당 카테고리가 아니어서 생략합니다. \n",
      "DEBUG:root:Scraping article: https://www.donga.com/news/It/article/all/20241007/130171106/1\n",
      "DEBUG:urllib3.connectionpool:Starting new HTTPS connection (1): www.donga.com:443\n",
      "DEBUG:urllib3.connectionpool:https://www.donga.com:443 \"GET /news/It/article/all/20241007/130171106/1 HTTP/11\" 200 None\n",
      "INFO:root:page_category: IT/의학\n",
      "INFO:root:category: 경제_과학\n",
      "INFO:root:https://www.donga.com/news/It/article/all/20241007/130171106/1 는 해당 카테고리가 아니어서 생략합니다. \n",
      "DEBUG:root:Scraping article: https://www.donga.com/news/Economy/article/all/20241007/130173041/1\n",
      "DEBUG:urllib3.connectionpool:Starting new HTTPS connection (1): www.donga.com:443\n",
      "DEBUG:urllib3.connectionpool:https://www.donga.com:443 \"GET /news/Economy/article/all/20241007/130173041/1 HTTP/11\" 200 None\n",
      "INFO:root:page_category: 경제\n",
      "INFO:root:category: 경제_과학\n"
     ]
    },
    {
     "name": "stdout",
     "output_type": "stream",
     "text": [
      "{'title': '네이버 “새로운 뉴스제휴평가위 연내 출범 목표”', 'time': '2024-10-07T23:18:00+09:00', 'content': '[국감현장]김수향 전무 “각계각층 의견 수렴 과정”\\n언론사 기사 AI 학습 제공 불공정 약관 문제…“계속 협의 예정”\\n네이버(035420)가 뉴스 입점 심사를 위한 새로운 뉴스제휴평가위원회를 연내 출범한다는 계획을 밝혔다.\\n김수향 네이버 뉴스총괄전무는 7일 열린 국회 과학기술방송통신위원회 국정감사에서 이훈기 더불어민주당 의원의 ‘제평위 개선 결과가 언제 나오느냐’는 질의에 “연내 새로운 제평위 출범을 목표로 하고 있다. 큰 틀의 (개선안) 결과를 발표할 예정”이라고 말했다.\\n제평위는 2015년 네이버와 카카오(035720) 주도로 포털 콘텐츠 제휴 언론사(CP사)를 선정·퇴출하는 역할을 맡아온 민간 자율기구다.\\n뉴스 입점과 제재, 퇴출 심의에 공정성 시비와 이념 편향 논란이 불거지면서 지난해 5월 22일 활동을 잠정 중단했다.\\n네이버는 올해 1월부터 외부 전문가로 꾸려진 뉴스혁신포럼을 출범하고 제평위 활동 개선을 논의하고 있다.\\n김 전무는 새로운 제평위 발표가 늦어진 이유와 관련 “각계각층 다양한 의견들을 수렴하고 있고 기존 제평위가 가졌던 문제들을 해결하는 방향으로 가려다 보니 늦어지고 있다”고 설명했다.\\n김 전무는 네이버 뉴스의 지역 다양성이 부족하다는 지적에는 새로운 제평위를 통해 개선하겠다고 말했다.\\n‘아웃링크 선택제’ 도입과 관련해선 “언론사들과 종합적으로 검토해서 실시하겠다”고 했다.\\n그는 ‘언론사들이 제공한 기사를 인공지능(AI)이 학습할 수 있도록 한 불공정한 약관 조항을 일방적으로 통보한 사실이 있느냐’는 최형두 국민의힘 의원 질의엔 “수정 과정을 거치고 언론사와 합의해 규정을 만들었다”며 “언론사들과 계속 협의해 나갈 예정”이라고 전했다.\\n언론사 기사 저작권 침해에 따른 배상 방안을 내놓을 것인지에는 “보상 문제는 해외에서도 아직 정확하게 정리되지 않은 부분이 있다”며 “고민해 보겠다”고 답했다.\\n(서울=뉴스1)', 'source_url': 'https://www.donga.com/news/Economy/article/all/20241007/130173041/1', 'category': 'science'}\n"
     ]
    },
    {
     "name": "stderr",
     "output_type": "stream",
     "text": [
      "INFO:root:category (base_url): 사회 (https://www.donga.com/news/Society)\n",
      "DEBUG:urllib3.connectionpool:Starting new HTTPS connection (1): www.donga.com:443\n",
      "DEBUG:urllib3.connectionpool:https://www.donga.com:443 \"GET /news/Society HTTP/11\" 200 None\n",
      "DEBUG:root:Scraping article: https://www.donga.com/news/Society/article/all/20241008/130173581/2\n",
      "DEBUG:urllib3.connectionpool:Starting new HTTPS connection (1): www.donga.com:443\n",
      "DEBUG:urllib3.connectionpool:https://www.donga.com:443 \"GET /news/Society/article/all/20241008/130173581/2 HTTP/11\" 200 None\n",
      "INFO:root:page_category: 사회\n",
      "INFO:root:category: 사회\n",
      "DEBUG:root:Scraping article: https://www.donga.com/news/Society/article/all/20241008/130173774/2\n",
      "DEBUG:urllib3.connectionpool:Starting new HTTPS connection (1): www.donga.com:443\n",
      "DEBUG:urllib3.connectionpool:https://www.donga.com:443 \"GET /news/Society/article/all/20241008/130173774/2 HTTP/11\" 200 None\n",
      "INFO:root:page_category: 사회\n",
      "INFO:root:category: 사회\n"
     ]
    },
    {
     "name": "stdout",
     "output_type": "stream",
     "text": [
      "{'title': '계란자조금관리위원회-대한산란계협회, 굿네이버스에 1000만원 기부', 'time': '2024-10-08T09:02:00+09:00', 'content': '글로벌 아동권리 전문 비정부기구(NGO) 굿네이버스는 계란자조금관리위원회, 대한산란계협회와 함께 국내외 위기가정 아동 지원을 위한 기부금 전달식을 진행했다고 밝혔다.\\n기부금 전달식은 지난 2일 서울 양재동 AT센터에서 열린 ‘에그 페스티벌’ 행사 중 진행됐다. 전달식에는 김중곤 굿네이버스 사무총장, 안두영 계란자조금관리위원회 위원장 겸 대한산란계협회장 등이 참석했다.\\n계란자조금관리위원회와 대한산란계협회는 이날 굿네이버스에 기부금 1000만 원을 전달했다. 기부금은 국내외 위기가정 아동을 돕는 데 사용될 예정이다. 앞서 지난 7월 3개 기관은 국내외 위기가정 아동 지원을 위해 △기부금 조성 사업 △물품(계란) 기부 사업 △해외지역개발사업 등을 협력하는 업무 협약식을 체결한 바 있다.\\n안두영 계란자조금관리위원회 위원장 겸 대한산란계협회장은 “위기가정 아동을 비롯한 도움이 필요한 이웃을 지원할 수 있어 기쁘다”며 “앞으로도 각 지역 계란 농가들과 함께 현금, 물품(계란) 기부 등 다양한 나눔 활동을 꾸준히 이어가겠다”고 말했다.\\n김중곤 굿네이버스 사무총장은 “전국 계란 농가의 따뜻한 마음을 모아 선한 영향력을 전해주신 계란자조금관리위원회와 대한산란계협회에 감사드린다”며 “두 기관과 함께 국내외 소외된 아동의 건강한 성장과 지역사회 자립을 지원하는 데 더욱 힘쓰겠다”고 전했다.', 'source_url': 'https://www.donga.com/news/Society/article/all/20241008/130173581/2', 'category': 'society'}\n",
      "{'title': '‘밀양 성폭행’ 가해자들 신상 무단공개한 유튜버 구속', 'time': '2024-10-08T09:41:00+09:00', 'content': '지난 2004년 발생한 ‘경남 밀양 집단 성폭력 사건’ 가해자들의 신상을 공개한 유튜브 채널 운영자가 구속됐다.\\n경남경찰청은 정보통신망 이용 촉진에 관한 법률 명예훼손 및 업무방해 등 혐의로 유튜브 채널 운영자 20대 A 씨와 영상 제작자 30대 B 씨를 구속했다고 8일 밝혔다.\\nA 씨 등은 올해 6~8월 자신의 유튜브 채널을 통해 밀양 집단 성폭행 사건 가해자 여러 명의 신상을 무단으로 공개한 혐의를 받는다.\\n이들은 가해자 가족이 운영하고 있다며 특정 식당의 상호를 밝히기도 했다. 주로 사실이 확인되지 않은 제보나 인터넷 검색을 통해 자료를 수집한 것으로 알려졌다.\\n경찰은 이 과정에서 밀양 성폭행 사건과 관련 없는 무고한 사람이 다수 포함됐다고 밝혔다. 그러면서 이들 외에도 비슷한 범죄를 저지른 다른 유튜버들에 대해서도 계속 수사 중이라고 전했다.', 'source_url': 'https://www.donga.com/news/Society/article/all/20241008/130173774/2', 'category': 'society'}\n"
     ]
    },
    {
     "name": "stderr",
     "output_type": "stream",
     "text": [
      "INFO:root:category (base_url): 스포츠 (https://www.donga.com/news/Sports)\n",
      "DEBUG:urllib3.connectionpool:Starting new HTTPS connection (1): www.donga.com:443\n",
      "DEBUG:urllib3.connectionpool:https://www.donga.com:443 \"GET /news/Sports HTTP/11\" 200 None\n",
      "DEBUG:root:Scraping article: https://www.donga.com/news/Sports/article/all/20241007/130169353/1\n",
      "DEBUG:urllib3.connectionpool:Starting new HTTPS connection (1): www.donga.com:443\n",
      "DEBUG:urllib3.connectionpool:https://www.donga.com:443 \"GET /news/Sports/article/all/20241007/130169353/1 HTTP/11\" 200 None\n",
      "INFO:root:page_category: 스포츠\n",
      "INFO:root:category: 스포츠\n",
      "DEBUG:root:Scraping article: https://www.donga.com/news/Sports/article/all/20241007/130171242/1\n",
      "DEBUG:urllib3.connectionpool:Starting new HTTPS connection (1): www.donga.com:443\n",
      "DEBUG:urllib3.connectionpool:https://www.donga.com:443 \"GET /news/Sports/article/all/20241007/130171242/1 HTTP/11\" 200 None\n",
      "INFO:root:page_category: 스포츠\n"
     ]
    },
    {
     "name": "stdout",
     "output_type": "stream",
     "text": [
      "{'title': '안세영, 올림픽 후 첫 공식 대회…9일 전국체전 단체전 16강 출격', 'time': '2024-10-07T16:57:00+09:00', 'content': '양궁 김우진·임시현 등 파리올림픽 메달리스트 40명 참가\\n2024 파리 올림픽에서 금메달을 획득한 후 폭탄 발언을 한 배드민턴 간판 안세영(삼성생명)이 올림픽 이후 첫 공식 대회에 모습을 드러낸다.\\n11일 시작하는 제105회 전국체육대회에서다.\\n올해 전국체육대회는 11일부터 17일까지 경남 김해종합운동장 등 75개 경기장에서 벌어진다. 47개 정식 종목, 2개 시범 종목 경기가 열린다.\\n선수 2만여명, 임원 1만여명이 참가하는 이번 대회에 올해 파리 올림픽에서 메달을 딴 스포츠 스타 46명 중 40명이 참가한다.\\n이 중 배드민턴과 하키 등은 사전경기로 대회 개막 전에 치러진다.\\n파리 올림픽 배드민턴 여자 단식에서 1996년 애틀랜타 대회 방수현 이후 28년 만에 금메달을 목에 건 안세영은 9일 경남 밀양 배드민턴 경기장에서 열리는 여자 일반부 단체전 16강전에 부산 대표로 나선다.\\n부산의 단체전 16강전 상대는 인천 대표인 인천국제공항이다.\\n안세영은 파리 올림픽 단식 금메달 획득 직후 인터뷰 등을 통해 대한배드민턴협회의 문제점을 지적해 논란을 일으켰다. 부상 관리, 대표팀 훈련과 운영 방식 등에 불만을 드러냈다.\\n8~9월 일본오픈, 코리아오픈에 모두 불참한 안세영에게 전국체전은 올림픽 이후 첫 공식 대회다.\\n사전경기로 진행된 태권도에서는 파리 올림픽 여자 67㎏ 초과급에서 동메달을 딴 이다빈(서울시청)이 여자 일반부 73㎏급에서 동메달을 수확했다.\\n파리 올림픽 금메달리스트 중 가장 먼저 체전 일정을 소화한 태권도 김유진(울산광역시체육회)은 7일 벌어진 여자 57㎏급에서 금메달을 획득했다.\\n양궁 남녀 3관왕에 등극한 김우진(청주시청)과 임시현(임실군청)은 12일부터 체전에 나서고, 펜싱 남자 사브르 2관왕 오상욱은 개막일인 11일 개인전 첫 경기를 치른다.\\n파리 올림픽을 통해 스타로 떠오른 사격의 김예지는 13일부터 일정에 들어간다.\\n서울=뉴시스', 'source_url': 'https://www.donga.com/news/Sports/article/all/20241007/130169353/1', 'category': 'sports'}\n"
     ]
    },
    {
     "name": "stderr",
     "output_type": "stream",
     "text": [
      "INFO:root:category: 스포츠\n"
     ]
    },
    {
     "name": "stdout",
     "output_type": "stream",
     "text": [
      "{'title': '백승호, ‘英 3부’ 버밍엄과 재계약…2028년까지 뛴다', 'time': '2024-10-07T18:51:00+09:00', 'content': '“축구 경력에 좋은 일이라고 판단”\\n국가대표 출신 미드필더 백승호(27)가 잉글랜드 리그1(3부리그) 버밍엄과 계약 기간을 2년 연장했다.\\n버밍엄은 7일(한국시간) “백승호와 재계약을 체결했다. 백승호는 버밍엄에 2028년 6월 30일까지 머문다”고 밝혔다.\\n백승호는 지난 1월 잉글랜드 챔피언십(2부리그) 소속의 버밍엄과 2026년 6월 30일까지 2년 6개월 계약을 맺은 바 있다.\\n이번 계약 연장은 예상치 못한 소식이다.\\n지난 1월 겨울 이적 시장을 통해 버밍엄 유니폼을 입은 백승호는 빠르게 팀의 주축으로 자리 잡았다. 하지만 팀 강등을 막지 못하며 올 시즌 3부리그에서 뛰고 있다.\\n여름 이적 시장에서 리즈, 셰필드, 선덜랜드 등 챔피언십의 여러팀이 백승호에게 관심을 보였다. 하지만 올 시즌 바로 승격에 도전하는 버밍엄은 팀의 핵심인 백승호를 잔류시켰다.\\n일각에서는 지난 여름에 팀을 옮기지 못한 백승호가 겨울 이적 시장 때 상위 리그 팀으로 이적을 추진할 것이라고 전망했다.\\n그러나 백승호는 자신에게 높은 신뢰를 보이는 팀에 남기로 결심했다. 백승호는 올 시즌 버밍엄이 치른 경기에 모두 선발 출전하는 등 팀 내에서 핵심으로 입지를 다졌다.\\n크리스 데이비스 버밍엄 감독은 공식적으로 “백승호는 올 시즌은 물론 앞으로 계속해서 버밍엄의 핵심 선수가 될 것이라고 확신한다”며 백승호에게 힘을 불어 넣었다.\\n재계약을 체결한 백승호는 “계약을 연장해 정말 기쁘다. 새 시즌이 시작된 이후 버밍엄은 성과를 낼 수 있을 것이라는 믿음이 생겼다”면서 “모든 사람들이 버밍엄이 좋은 과정을 보내고 있는 것을 지켜보고 있을 것이다. 버밍엄에서 생활하는 것이 축구 경력에 좋은 경험이라고 생각한다”고 밝혔다.\\n한편 버밍엄은 9경기를 치른 현재 7승 1무 1패(승점 22)로 1경기를 더 치른 렉섬(승점 20)에 승점 2점 앞서며 리그1 선두를 달리고 있다. 리그1 1, 2위 팀은 다음 시즌 챔피언십으로 승격하게 된다.\\n(서울=뉴스1)', 'source_url': 'https://www.donga.com/news/Sports/article/all/20241007/130171242/1', 'category': 'sports'}\n"
     ]
    }
   ],
   "source": [
    "import requests\n",
    "from bs4 import BeautifulSoup\n",
    "import pandas as pd\n",
    "import time\n",
    "import logging\n",
    "from urllib.parse import urlparse\n",
    "\n",
    "FASTAPI_URL = 'https://j11a301.p.ssafy.io/video'\n",
    "\n",
    "def lambda_handler(event, context):\n",
    "    \n",
    "    return {\n",
    "        'statusCode': 200,\n",
    "        'body': 'donga-news-crawler from Lambda is do!'\n",
    "    }\n",
    "\n",
    "logging.basicConfig(level='DEBUG')\n",
    "\n",
    "header = {'User-Agent': ('Mozilla/5.0 (Windows NT 10.0; Win64; x64) AppleWebKit/537.36 '\n",
    "                         '(KHTML, like Gecko) Chrome/104.0.0.0 Safari/537.36'),}\n",
    "\n",
    "categories = {\n",
    "    '정치': 'https://www.donga.com/news/Politics',\n",
    "    '경제': 'https://www.donga.com/news/Economy',\n",
    "    '국제': 'https://www.donga.com/news/Inter',\n",
    "    '사회_사건': 'https://www.donga.com/news/Society/Event', # 앞 분기 기준\n",
    "    '경제_과학': 'https://www.donga.com/news/It/List', # 앞 분기 기준\n",
    "    '사회': 'https://www.donga.com/news/Society',\n",
    "    '스포츠': 'https://www.donga.com/news/Sports',\n",
    "}\n",
    "\n",
    "result_categories = {\n",
    "    '정치': 'politics',\n",
    "    '경제': 'economy',\n",
    "    '국제': 'world',\n",
    "    '사회_사건': 'accident',\n",
    "    '경제_과학': 'science',\n",
    "    '사회': 'society',\n",
    "    '스포츠': 'sports',\n",
    "}\n",
    "\n",
    "def scrap_article(article_url, category):\n",
    "    response = requests.get(article_url, headers=header)\n",
    "    soup = BeautifulSoup(response.text, 'html.parser')\n",
    "\n",
    "    try:\n",
    "        page_category = soup.find('ol', class_='breadcrumb').find('li', class_='breadcrumb_item').find('a').get_text(strip=True)\n",
    "        logging.info(f\"page_category: {page_category}\")\n",
    "        \n",
    "        logging.info(f\"category: {category}\")\n",
    "\n",
    "        category_parts = category.split('_')\n",
    "        \n",
    "        # 카테고리가 아닌 글은 패스\n",
    "        if page_category not in category_parts:\n",
    "            logging.info(f\"{article_url} 는 해당 카테고리가 아니어서 생략합니다. \")\n",
    "            return None\n",
    "    except AttributeError:\n",
    "        logging.error(f\"{article_url} 는 찾을 수 없습니다.\")\n",
    "        return None\n",
    "\n",
    "    # 헤드라인 스크랩\n",
    "    try:\n",
    "        title = soup.find('section', {'class': 'head_group'}).find('h1').get_text(strip=True)\n",
    "    except AttributeError:\n",
    "        title = 'N/A'\n",
    "        \n",
    "    try:\n",
    "        date_button = soup.find('button', {'aria-controls': 'dateInfo'})\n",
    "        time_span = date_button.find('span', {'aria-hidden': 'true'})\n",
    "        time = time_span.get_text(strip=True)  # \"2024-09-30 21:44\" 형태\n",
    "        time = time.replace(\" \", \"T\") + \":00+09:00\"  # ISO 8601 형식으로 변환 (예: 2024-09-30T21:44:00+09:00)\n",
    "    except AttributeError:\n",
    "        time = 'N/A'\n",
    "\n",
    "    # 본문 스크랩\n",
    "    try:\n",
    "        # 광고, 이미지 등 제외하고 텍스트만 추출\n",
    "        content_section = soup.find('section', class_='news_view')\n",
    "        for tag in content_section(['figure', 'script', 'div', 'ul']):  # 불필요한 태그 제거\n",
    "            tag.decompose()\n",
    "        content = content_section.get_text(separator=\"\\n\", strip=True)\n",
    "    except AttributeError:\n",
    "        content = 'N/A'\n",
    "\n",
    "    result_category = result_categories.get(category, 'unknown')\n",
    "\n",
    "    return {'title': title, 'time': time, 'content': content, 'source_url': article_url, 'category': result_category}\n",
    "\n",
    "def post_article_to_server(article_data):\n",
    "    \n",
    "    fastapi_url = 'https://your-fastapi-url.com/process_data'\n",
    "    headers = {'Content-Type': 'application/json'}\n",
    "    \n",
    "    try:\n",
    "        response = requests.post(FASTAPI_URL, json=article_data, headers=headers)\n",
    "        response.raise_for_status()\n",
    "        logging.info(f'\\'statusCode\\': 200 \\n\\'body\\': \\'요청 성공\\'')\n",
    "    except requests.exceptions.RequestException as e:\n",
    "        logging.error(f'\\'statusCode\\': 500 \\n\\'Internal Server Error\\': {e}')\n",
    "\n",
    "def check_for_new_articles(base_url, category):\n",
    "    response = requests.get(base_url, headers=header)\n",
    "    soup = BeautifulSoup(response.text, 'html.parser')\n",
    "\n",
    "    article_count = 0\n",
    "    cards = soup.find_all('article', class_='news_card')\n",
    "    cards.reverse()\n",
    "    for card in cards:\n",
    "        if article_count >= 2:\n",
    "            break\n",
    "\n",
    "        link_tag = card.find('a', href=True)\n",
    "        if link_tag and 'href' in link_tag.attrs:\n",
    "            article_link = link_tag['href']\n",
    "        else:\n",
    "            logging.warning(\"article_link is None or missing 'href'.\")\n",
    "            continue\n",
    "    \n",
    "        logging.debug(f\"Scraping article: {article_link}\")\n",
    "\n",
    "        result = scrap_article(article_link, category)\n",
    "\n",
    "        if result is None:\n",
    "            continue\n",
    "        \n",
    "        # post_article_to_server(result) # 서버가 완성되면 주석을 풀어라...\n",
    "        print(result)\n",
    "        article_count += 1\n",
    "\n",
    "def scrap_all_categories():\n",
    "    \n",
    "    for category, base_url in categories.items():\n",
    "        logging.info(f\"category (base_url): {category} ({base_url})\")\n",
    "        check_for_new_articles(base_url, category)\n",
    "        time.sleep(2)\n",
    "\n",
    "scrap_all_categories()"
   ]
  },
  {
   "cell_type": "markdown",
   "metadata": {},
   "source": [
    "## 중앙일보"
   ]
  },
  {
   "cell_type": "code",
   "execution_count": 3,
   "metadata": {},
   "outputs": [
    {
     "name": "stderr",
     "output_type": "stream",
     "text": [
      "INFO:root:category (base_url): 정치 (https://www.joongang.co.kr/politics)\n",
      "DEBUG:urllib3.connectionpool:Starting new HTTPS connection (1): www.joongang.co.kr:443\n",
      "DEBUG:urllib3.connectionpool:https://www.joongang.co.kr:443 \"GET /politics HTTP/11\" 200 None\n",
      "DEBUG:root:Scraping article: https://www.joongang.co.kr/article/25282595\n",
      "DEBUG:urllib3.connectionpool:Starting new HTTPS connection (1): www.joongang.co.kr:443\n",
      "DEBUG:urllib3.connectionpool:https://www.joongang.co.kr:443 \"GET /article/25282595 HTTP/11\" 200 None\n",
      "INFO:root:page_category: 정치\n",
      "INFO:root:category: 정치\n",
      "DEBUG:root:Scraping article: https://www.joongang.co.kr/article/25282602\n",
      "DEBUG:urllib3.connectionpool:Starting new HTTPS connection (1): www.joongang.co.kr:443\n",
      "DEBUG:urllib3.connectionpool:https://www.joongang.co.kr:443 \"GET /article/25282602 HTTP/11\" 200 None\n"
     ]
    },
    {
     "name": "stdout",
     "output_type": "stream",
     "text": [
      "{'title': \"한동훈·이재명 또 '부산행'…금정구청장 보선에 사활 거는 이유\", 'source_url': 'https://www.joongang.co.kr/article/25282595', 'content': '한동훈 국민의힘 대표가 5일 오후 부산 금정구 이마트 금정점 앞에서 윤일현 금정구청장 후보 지원유세를 하고 있다.(왼쪽 사진) 이재명 더불어민주당 대표가 3일 오후 부산 금정구 부산대역 앞에서 김경지 금정구청장 후보 지원유세를 하고 있다. 뉴스110·16 기초단체장 재·보선은 인천 강화군수, 부산 금정구청장, 전남 영광·곡성군수를 뽑는 선거다. 그중에서도 가장 치열한 곳은 부산 금정구청장 보궐선거다.\\xa0이재명 더불어민주당 대표는 9일 부산 금정구를 찾아 김경지 민주당 금정구청장 후보 지원유세에 나선다. 같은 날 한동훈 국민의힘 대표도 부산 금정구에서 현장 최고위원회의를 열고, 윤일현 국민의힘 후보를 지원사격한다.두 사람이 금정구를 방문하는 것은 이번이 각각 네 번째(이 대표), 다섯 번째(한 대표)다.\\xa0정치권에서는 “기초단체장 선거에 양당 대표가 이처럼 공을 들이는 건 이례적”이라는 말이 나온다. 예컨대 지난해 4월 창녕군수 보궐선거 당시 이 대표는 창녕군에 반나절만 머물렀다.민주당·조국혁신당은 6일 야권 단일후보로 김경지 민주당 후보를 선출하면서 윤일현 국민의힘 후보와의 일대일 구도를 형성하는 데 성공했다. 한국사회여론연구소(KSOI)의 가상대결 여론조사(10월 1~2일) 결과 윤일현 43.5%-김경지 40.0%로 오차범위(±4.4%포인트) 내 박빙이다. 부산 금정구청장 선거는 1995년 민선 이후 9번의 선거(재·보선 포함)에서 국민의힘 계열이 8번 승리할 만큼 보수가 강세였다. 하지만 최근 지지율 변화가 감지되자 양당 대표 모두 발벗고 나선 것이다.신재민 기자양당 대표의 등장은 두 사람이 처한 정치적 상황과도 무관치 않다는 평가다. 이 대표는 11월 15일(공직선거법 위반), 25일(위증교사) 1심 재판을 앞두고 있다. 재·보선에 승리해 사법리스크를 잠재우고 야권 유력주자로서의 입지를 재확인할 필요가 있다. 한 대표는 윤·한 갈등 속에서 당내 입지를 다지기 위해 금정구청장 사수가 필수다. 정한울 한국사람연구원장은 “윤석열 정부 중반기에 접어들며 유권자 관심이 차기 지도자를 향하는 시기여서 기초단체장 선거이지만 판이 커진 것”이라며\\xa0“이 대표와 한 대표 입장에서는 이 선거에서 승리해야 당 안팎에서 리더로 인정받을 수 있다고 봤을 것”이라고 했다.선거판이 격렬해지면서 전국 선거에서 나올만한 구호도 난무한다. 이 대표는 지난 5일 인천 강화군수 지원유세에서 “선거를 못 기다릴 정도로 심각하면 도중에 끌어내리는 게 민주주의”라며 탄핵을 시사하는 발언을 했다. 그러자 한 대표는 해당 발언 5시간 만에 “‘대통령을 끌어내리겠다’는 구호를 앞장세우면서 선거판을 정쟁의 장으로 물들이고 있다”며 받아쳤다.지난 3일 오전 전남 영광군 영광터미널시장 인근에서 조국혁신당 조국 대표가 시민들과 만나 장현 혁신당 후보 지지를 호소하고 있다. 연합뉴스반면에 전남 영광군수 재선거에서는 이 대표가 조국 조국혁신당 대표에 쫓기는 듯한 상황이 벌어지고 있다. 리얼미터·미디어트리뷴의 영광군수 재선거 여론조사(9월 29~30일) 결과 민주당 장세일 32.5%, 혁신당 장현 30.9%, 진보당 이석하 30.1%로 지지율이 막상막하다. 이 대표는 9~10일 1박2일 일정으로 영광을 방문해 집중 지원유세를 한다.(기사에 인용된 여론조사에 대한 자세한 내용은 중앙선거여론조사심의위원회 홈페이지 참조)김효성 기자 kim.hyoseong@joongang.co.kr', 'category': 'politics', 'source_created_at': '2024-10-07T17:32:27+09:00', 'press_id': 1}\n"
     ]
    },
    {
     "name": "stderr",
     "output_type": "stream",
     "text": [
      "INFO:root:page_category: 정치\n",
      "INFO:root:category: 정치\n"
     ]
    },
    {
     "name": "stdout",
     "output_type": "stream",
     "text": [
      "{'title': '동행명령 엄포 놓고 때린 野…직무정지 이진숙 “일하고 싶다”', 'source_url': 'https://www.joongang.co.kr/article/25282602', 'content': '국회 과학기술정보방송통신위원회의 7일 방송통신위원회 국정감사는 탄핵소추로 직무가 정지된 이진숙 방송통신위원장의 청문회를 방불케 했다.당초 이날 오전 과방위의 방통위 국감에 이진숙 위원장은 출석하지 않았다. 탄핵 소추안 가결로 직무정지라 불출석하겠다는 사유서를 냈지만, 민주당 소속 최민희 과방위원장이 불출석 시 동행명령장 발부를 예고하면서 이날 오후 3시께 이 위원장은 모습을 드러냈다.\\xa0이 위원장이 국회에 출석한 것은 지난 8월 14일 과방위의 ‘방송장악 관련 2차 청문회’ 이후 두 달 만이다.7일 국회 과학기술정보방송통신위원회에서 열린 방송통신위원회·방송통신사무소·시청자미디어재단·한국방송광고진흥공사 국정감사에서 최민희 위원장이 윤원일 대검찰청 형사 3과 과장, 강필구 방송통신위원회 혁신기획담당관 증인 추가 출석 요구의 건을 상정하고 있다. 뉴스1더불어민주당 등 야권은 지난 청문회 때부터 제기한 법인 카드 유용 의혹 등을 꺼내 들며 이 위원장에 대한 질의를 이어갔다. 이해민 조국혁신당 의원이 “세금으로 월급 따박따박 받아가고 있는데, (직무 정지된 이 위원장이) 하나도 불쌍하지 않다”고 하자, 이 위원장은 “원해서 뛰쳐나온 게 아니다. 나는 일을 하고 싶다”고 말했다.황정아 더불어민주당 의원은 이 위원장의 국감 불출석 사유서를 방통위 직원이 대리로 국회 행정실에 제출한 것을 들며\\xa0“이 위원장은 법인카드도 관용차도 사적으로 마구잡이로 이용하더니 이제는 방통위마저 사유화하려 한다”고 꼬집었다. 이 위원장은 이에 대해 “방통위에 국회 출입 직원이 있는데 그쪽에서 먼저 사유서를 (자신이) 내면 되겠냐고 해 그렇게 하자고 답변했다”며 “공직자를 개인 비서로 부린 적 없다”고 반박했다.여당 의원들도 거들었다. 박정훈 국민의힘 의원은 “야당 과방위 위원들이 이 위원장을 굉장히 부도덕한 사람으로 매도했다”며 야당이 내놓은 법인카드 의혹 집중 제기 화살을 이재명 더불어민주당 대표의 부인인 김혜경 여사로 돌렸다. 박 의원은\\xa0김태규 방통위원장 직무대행에게 “김혜경 여사가 법인카드를 얼마를 썼는지 아십니까”라고 물으며 “3년 3개월 동안 자기 생활비처럼 썼다. ‘슬기로운 법카 생활’을 했는데 민주당은 한마디도 하지 않고 있다”고 했다.이에 최민희 과방위원장은 즉각 발언을 중지시키며 “질의를 하라.\\xa0전혀 무관한 사람을 계속 끌어들이면 마이크를 꺼버리겠다”고 소리쳤다. 여당 의원들이 “법인카드의 공정성을 얘기하는 거 아닌가”(최형두)라고 반발하자, 야당 측에선 “김건희당 아니십니까”(김우영)라고 맞받아치며 고성이 오갔다.민주당 등 야당 의원들은 이 위원장의 유튜브 출연을 놓고 “‘좌파 집단은 우리가 상상할 수 있는 모든 걸 한다’는 등\\xa0방통위원장으로서 부적절한 언행을 했다”(이훈기)고 지적했다. 이에 이 위원장은\\xa0“스스로를 방어하기 위한 말이었다”고 해명했다.\\xa0자신이 오랫동안 일 했던 MBC에 대해서는 “편파적인 보도를 하고 있다”며 “MBC가 민(주)노총·민주당 브로드캐스팅 코퍼레이션(broadcasting corporation)으로 불리고 있다”라고도 했다. 이 위원장은 또 자신의 직무정지 상태가 이어지는 것을 두곤 “헌법재판소가 탄핵과 관련해 가든 부든 한시바삐 결정을 내려주길 강력히 희망한다”고\\xa0밝혔다.김경훈 구글코리아 사장(앞줄 왼쪽부터), 안철현 애플코리아 부사장, 김수향 네이버 뉴스서비스 총괄전무, 허욱 페이스북코리아 부사장이 7일 국회 과학기술정보방송통신위원회에서 열린 방송통신위원회·방송통신사무소·시청자미디어재단·한국방송광고진흥공사 국정감사에 출석했다. 뉴스1이 같은 공방이 이어지면서 이날 소환된 애플, 구글, 넷플릭스를 둘러싼 정책 현안은 뒷전이었다. 국감에 출석한 안철현 애플코리아 부사장, 김경훈 구글코리아 사장 등을 상대로 글로벌 독점과 디지털세(稅), 인앱(앱에서 유료 결제 시 자신의 앱 장터를 통해서만 결제하는 방식) 강제를 놓고 집중 질의할 예정이었다.애플은 네이버보다 더 큰 이익을 거뒀음에도 국내에서 법인세를 네이버의 3% 수준만 내고 있다. 2020년 한국은 구글·애플의 ‘인앱 결제’를 강제하는 법안을 도입했었다.최수진 국민의힘 의원은\\xa0“우리나라는 인앱결제 강제 금지법을 세계 최초로 만들었는데 현재까지 아무런 의결이 되지 않은 상태”라며 “이것은 방통위가 정상적으로 운영되지 않았다는 단정적인 증거”라고 꼬집었다. 이에 김태규 방통위 직무대행은\\xa0“헌법재판소가 이진숙 위원장에 대한 탄핵 심판 결정을 빨리해줘야 한다”며\\xa0“내부적으로 구글·애플에 대한 조사가 완료된 만큼, 방통위 업무가 정상화되면 이들의 반독점 행위에 대해 신속 대처할 것”이라 했다.방통위는 인앱결제 강제금지법을 통해 특정 결제 방식 강제 행위를 금지했음에도 구글·애플이 규정을 회피하는 데 대해 지난해 10월 애플에 205억원, 구글에 475억원의 과징금 부과를 의결했다. 하지만 현재 김 직무대행 1인 체제로 실제 부과는 이뤄지지 않고 있다.이날 국감에 증인 출석한 빅테크 기업 중 가장 많은 질문을 받은 기업은 구글이었지만, 형식적 해명만 반복하거나 본사 권한으로 책임을 돌렸다. 박충권 국민의힘 의원이 “우리나라만 유독 유튜브 요금제가 급격하게 인상되고 있는 것으로 보인다”고 지적하자, 김경훈 구글코리아 사장은 “유튜브 본사에서 가격을 결정하고 있는데, 경제 소득이나 국가별 인상률 등 여러 요소를 고려하고 있다”고 답했다.이진숙 방송통신위원회 위원장이 7일 오후 국회 과학기술정보방송통신위원회에서 열린 방송통신위원회·방송통신사무소·시청자미디어재단·한국방송광고진흥공사 국정감사에 자리하고 있다. 뉴스1김민정 기자 kim.minjeong4@joongang.co.kr', 'category': 'politics', 'source_created_at': '2024-10-07T17:57:31+09:00', 'press_id': 1}\n"
     ]
    },
    {
     "name": "stderr",
     "output_type": "stream",
     "text": [
      "INFO:root:category (base_url): 경제 (https://www.joongang.co.kr/money)\n",
      "DEBUG:urllib3.connectionpool:Starting new HTTPS connection (1): www.joongang.co.kr:443\n",
      "DEBUG:urllib3.connectionpool:https://www.joongang.co.kr:443 \"GET /money HTTP/11\" 200 None\n",
      "DEBUG:root:Scraping article: https://www.joongang.co.kr/article/25282656\n",
      "DEBUG:urllib3.connectionpool:Starting new HTTPS connection (1): www.joongang.co.kr:443\n",
      "DEBUG:urllib3.connectionpool:https://www.joongang.co.kr:443 \"GET /article/25282656 HTTP/11\" 200 None\n",
      "INFO:root:page_category: 경제\n",
      "INFO:root:category: 경제\n",
      "DEBUG:root:Scraping article: https://www.joongang.co.kr/article/25282664\n",
      "DEBUG:urllib3.connectionpool:Starting new HTTPS connection (1): www.joongang.co.kr:443\n",
      "DEBUG:urllib3.connectionpool:https://www.joongang.co.kr:443 \"GET /article/25282664 HTTP/11\" 200 None\n"
     ]
    },
    {
     "name": "stdout",
     "output_type": "stream",
     "text": [
      "{'title': '허용수 GS에너지 사장, 스페인 국왕 훈장 받았다', 'source_url': 'https://www.joongang.co.kr/article/25282656', 'content': '허용수 GS에너지 사장(오른쪽)이 7일 스페인 십자문화대훈장을 받고 있다. [사진 GS에너지]허용수 GS에너지 사장이 스페인 국왕이 수여하는 훈장을 받았다. 7일 GS에너지는 허 사장이 서울 용산구 한남동 주한 스페인 대사관에서 펠리페 6세 스페인 국왕이 수여하는 ‘이사벨 여왕 십자문화대훈장’을 받았다고 밝혔다. 스페인 국왕을 대신해 기예르모 키르크파트릭 데 라 베가 주한 스페인 대사가 훈장을 전달했다.스페인 왕실은 스페인 문화계에 의미 있는 기여를 하거나 뛰어난 성과를 이룬 인물에게 이 훈장을 수여해왔다. 허 사장은 스페인 프라도 미술관과 레이나 소피아 음악학교 후원회 활동으로 한국과 스페인 간 문화예술 우호 증진에 기여한 공로를 인정받아 수훈자로 선정됐다.허 사장은 국내에서도 국립발레단 이사장, 국립현대미술관 발전 후원회 위원장, 국립중앙박물관회 부회장을 맡아 문화 후원 활동을 꾸준히 펼치고 있다. 지난 2020년엔 화관 문화 훈장을 수훈했다.최현주 기자 chj80@joongang.co.kr', 'category': 'economy', 'source_created_at': '2024-10-08T00:01:00+09:00', 'press_id': 1}\n"
     ]
    },
    {
     "name": "stderr",
     "output_type": "stream",
     "text": [
      "INFO:root:page_category: 경제\n",
      "INFO:root:category: 경제\n"
     ]
    },
    {
     "name": "stdout",
     "output_type": "stream",
     "text": [
      "{'title': '노벨생리의학상에 ‘마이크로 RNA 발견’ 미국인 듀오', 'source_url': 'https://www.joongang.co.kr/article/25282664', 'content': '빅터 앰브로스(左), 게리 러브컨(右)암과 같은 난치병 차세대 치료제로 주목받고 있는 ‘마이크로 RNA(miRNA)’를 발견한 연구자들이 올해 노벨 생리의학상을 받았다.스웨덴 카롤린스카의대 노벨위원회는 2024년 노벨 생리의학상 수상자로 빅터 앰브로스 미국 매사추세츠 의대 교수와 게리 러브컨 하버드대 의대 교수를 공동 선정했다고 7일(현지시간) 발표했다. 위원회는 이들이 유전자에 의해 생명체를 구성하는 단백질을 만들어내는 과정(유전체 발현)을 조절하는 마이크로 RNA를 처음 발견하고 그 역할을 규명한 공로를 인정했다.앰브로스 교수는 미생물인 ‘예쁜꼬마선충’을 연구하는 과정에서 처음 마이크로 RNA를 발견했다. 러브컨 교수는 이후 마이크로 RNA가 생물의 유전체 발현에 어떤 역할을 하는지 밝혀냈다. 위원회는 “(마이크로 RNA의 발견은) 유전자 조절과 관련된 연구에 새로운 차원을 열어줬다”며 “마이크로 RNA는 유기체의 발달과 기능에 근본적으로 중요한 역할을 하는 것으로 입증되고 있다”고 밝혔다. 두 수상자는 상금 1100만 스웨덴 크로나(약 14억3000만원)를 나눠 받는다.마이크로 RNA는 20~24개의 염기로 이뤄진 작은 ‘리보핵산(RNA)’으로, 세포 내에 유전체 발현을 미세하게 조절하는 중요한 분자다. 유전 정보를 담고 있는 DNA는 세포질 속 단백질을 만들어내는 기관으로 유전 정보를 전달하는 ‘메신저 RNA(mRNA)’를 만들어내는데, 마이크로 RNA는 mRNA가 각 세포에 맞게 적절한 양의 단백질을 만들어낼 수 있게 조절해주는 역할을 한다.장수환 울산의대 서울아산병원 생리학교실 교수는 “마이크로 RNA는 세포 성장, 발달, 분화 등 여러 중요한 생물학적 과정에서 필수적인 역할을 한다”며 “유전체 발현 이상에 의해 발생하는 다양한 질환의 치료를 위해 반드시 이해해야 하는 분야”라고 말했다.앰브로스 교수는 1953년 미국 뉴햄프셔 주에서 태어나 매사추세츠 공대(MIT)에서 박사학위를 받은 뒤 다트머스 의대를 거쳐 매사추세츠 의대에 근무하고 있다. 러브컨 교수는 1952년 미국 캘리포니아 주에서 태어나 하버드대에서 박사학위를 받은 뒤 MIT에서 박사 후 과정을 거쳐 하버드대 의대에서 일하고 있다. 노벨위원회는 이날 생리의학상을 시작으로 8일 물리학상, 9일 화학상, 10일 문학상, 11일 평화상, 14일 경제학상 수상자를 차례로 발표한다.윤상언 기자 youn.sangun@joongang.co.kr', 'category': 'economy', 'source_created_at': '2024-10-08T00:01:00+09:00', 'press_id': 1}\n"
     ]
    },
    {
     "name": "stderr",
     "output_type": "stream",
     "text": [
      "INFO:root:category (base_url): 국제 (https://www.joongang.co.kr/world)\n",
      "DEBUG:urllib3.connectionpool:Starting new HTTPS connection (1): www.joongang.co.kr:443\n",
      "DEBUG:urllib3.connectionpool:https://www.joongang.co.kr:443 \"GET /world HTTP/11\" 200 None\n",
      "DEBUG:root:Scraping article: https://www.joongang.co.kr/article/25282578\n",
      "DEBUG:urllib3.connectionpool:Starting new HTTPS connection (1): www.joongang.co.kr:443\n",
      "DEBUG:urllib3.connectionpool:https://www.joongang.co.kr:443 \"GET /article/25282578 HTTP/11\" 200 None\n",
      "INFO:root:page_category: 더 차이나\n",
      "INFO:root:category: 국제\n",
      "INFO:root:https://www.joongang.co.kr/article/25282578 는 해당 카테고리가 아니어서 생략합니다. \n",
      "DEBUG:root:Scraping article: https://www.joongang.co.kr/article/25282590\n",
      "DEBUG:urllib3.connectionpool:Starting new HTTPS connection (1): www.joongang.co.kr:443\n",
      "DEBUG:urllib3.connectionpool:https://www.joongang.co.kr:443 \"GET /article/25282590 HTTP/11\" 200 None\n",
      "INFO:root:page_category: 국제\n",
      "INFO:root:category: 국제\n",
      "DEBUG:root:Scraping article: https://www.joongang.co.kr/article/25282610\n",
      "DEBUG:urllib3.connectionpool:Starting new HTTPS connection (1): www.joongang.co.kr:443\n",
      "DEBUG:urllib3.connectionpool:https://www.joongang.co.kr:443 \"GET /article/25282610 HTTP/11\" 200 None\n"
     ]
    },
    {
     "name": "stdout",
     "output_type": "stream",
     "text": [
      "{'title': '카자흐, 국민투표로 중앙아 첫 원전 물꼬…韓, 수주 성공할까', 'source_url': 'https://www.joongang.co.kr/article/25282590', 'content': '원자력발전소 도입 놓고 진행한 카자흐스탄의 국민투표에서 70%가 넘는 찬성표가 나오면서 원전 도입이 본격적으로 추진될 전망이다. 이로써 카자흐스탄 원전 수주 최종 후보 4곳 중 하나인 한국의 한국수력원자력도 본격적인 수주 경쟁에 돌입하게 됐다.7일(현지시간) 카자흐스탄 중앙선거관리위원회는 전날 실시한 국민투표에서 \\'원전 도입\\'에 대한 찬성표가 71.12%로 집계됐다고 발표했다. 앞서 발표된 두 출구조사 결과에서도 응답자의 약 70%가 찬성한 것으로 나타났다.\\xa0투표율은 63.66%였다. 카자흐스탄 국민투표는 헌법에 따라 유권자 중 과반이 참여해야 유효하다.6일 카자흐스탄 알마티주 울켄 마을 투표소에서 카자스흐탄 국민들이 투표에 참여하고 있다. 로이터=연합뉴스이번 국민투표 결과에 따라 카자흐스탄은 고질적인 전력 부족을 겪고 있는 중앙아시아 5개국(카자흐스탄·우즈베키스탄·투르크메니스탄·키르기스스탄·타지키스탄) 중 가장 먼저 원자력 발전소를 도입하는 나라가 될 전망이다.카자흐스탄 정부는 2800㎿(메가와트) 규모의 신규 원전 2기를 2029년 착공해 2035년 완공한다는 계획이다. 원전 1기당 50억 달러(약 7조원)가 소요된다. 카자흐스탄 원전 합자회사의 대표인 티무르 잔티킨은 \"높은 안정성을 기준으로 수준 높은 가압경수로(PWR) 방식을 채택할 것\"이라고 언급한 바 있다.원전 거부감, 국민투표로 넘어카자흐스탄의 원전 건설 계획은 2016년 누르술탄 나자르바예프 초대 대통령에 의해 사업 타당성 검토에 들어갔지만 국민 정서에 반한다는 이유로 보류됐었다.카심-조마르트 토카예프 대통령은 2021년 고질적인 에너지 부족 해결을 위해 원전 건설을 재추진했다. 토카예프 대통령은 지난 5월 \"현재 상황대로라면 전력 부족으로 경제 성장 둔화, 주택과 서비스 위기로 이어질 수 있다\"며 원전의 필요성을 강조했다. 지난해엔 카자흐스탄 남부 도시 알마티 인근의 발하쉬 호수 일대를 원전 부지로 최종 결정했다.정근영 디자이너이번 국민투표는 토카예프 대통령이 원전에 대한 국민적 불안감을 고려해\\xa0\"원전 건설 여부를 정치·경제적 필요성뿐 아니라 국민적 지지를 확인한 뒤 진행하겠다\"고 밝힌 뒤 진행됐다. 카자흐스탄이 구소련의 일부였던 1949~89년, 소련 당국은 카자흐스탄의 북부에 위치한 세미파라틴스크에서 456회의 핵실험을 실시했다. 이 일대 300㎢가 방사능에 오염돼 \\'죽음의 땅\\'이 됐고 주민들은 암·결핵·정신질환에 시달렸고 낙태와 기형아 출산율도 치솟았다. 카자흐스탄은 소련 붕괴 이후인 1991년 8월 29일 세미팔라틴스크를 영구 폐쇄했다.카자흐스탄 최초의 원전 부지로 확정된 알마티 북쪽으로 약 400km 떨어진 발하쉬 호숫가에 위치한 울켄 마을. AFP=연합뉴스한국, 러시아·중국·프랑스와 수주 경쟁국민투표 이후 카자흐스탄 정부는 원전 건설 발주업체를 선정할 예정이다. 카자흐스탄은 지난해 8월 한국의 한국수력원자력, 중국의 핵공업그룹(CNNC), 러시아 로사톰(Rosatom), 프랑스 EDF 등 총 4곳을 최종 후보로 선정했다.이에 대해 정범진 경희대 원자력공학과 교수(한국원자력학회장)는 \"카자흐스탄 원전 수주는 마켓 규모 면에서 큰 의미가 있다\"면서 \"원전 건설뿐 아니라 향후 운영까지 맡게 될 가능성이 큰데다, 다른 중앙아 국가의 원전 개발에도 참여할 수 있을 것\"이라고 전망했다.카심-조마르트 토카예프 카자흐 대통령이 6일 아스타나에 투표소에서 국민투표에서 참여하고 있다. 로이터=연합뉴스한편 6일 투표장에 모습을 보인 토카예프 대통령은 \"가장 앞선 기술을 갖춘 글로벌 기업을 기준으로 국제 컨소시엄을 구성하는 것이 바람직하다는 게 개인적인 생각\"이라고 밝혔다. 카자흐스탄 알마티에서 활동하는 언론인 겸 블로거인 바딤 보레이코는 자신의 블로그에 \"(토카예프의 사무실에서) 러시아의 로사톰과 함께 원전을 건설한다는 결정이 내려졌다는 게 나의 결론\"이라고 썼다.관련기사\\'우라늄 1위\\'인데 전력난…카자흐 첫 원전, 한국도 수주 경쟁\"주몽\" 외치며 환호…고구려 무용총 그 장면, 카자흐에서 보다 [글로벌리포트]\"생각보다 가깝네\"…6시간이면 두바이·스위스 만나는 이곳박형수 기자 hspark97@joongang.co.kr', 'category': 'world', 'source_created_at': '2024-10-07T17:23:14+09:00', 'press_id': 1}\n"
     ]
    },
    {
     "name": "stderr",
     "output_type": "stream",
     "text": [
      "INFO:root:page_category: 더 차이나\n",
      "INFO:root:category: 국제\n",
      "INFO:root:https://www.joongang.co.kr/article/25282610 는 해당 카테고리가 아니어서 생략합니다. \n",
      "DEBUG:root:Scraping article: https://www.joongang.co.kr/article/25282613\n",
      "DEBUG:urllib3.connectionpool:Starting new HTTPS connection (1): www.joongang.co.kr:443\n",
      "DEBUG:urllib3.connectionpool:https://www.joongang.co.kr:443 \"GET /article/25282613 HTTP/11\" 200 None\n",
      "INFO:root:page_category: 국제\n",
      "INFO:root:category: 국제\n"
     ]
    },
    {
     "name": "stdout",
     "output_type": "stream",
     "text": [
      "{'title': \"노벨 생리의학상에 'miRNA 발견' 빅터 앰브로스∙개리 러브컨\", 'source_url': 'https://www.joongang.co.kr/article/25282613', 'content': '노벨상. AFP=연합뉴스올해 노벨 생리의학상은 미국 생물학자 빅터 앰브로스와 개리 러브컨에게 돌아갔다.7일(현지시간) 스웨덴 카롤린스카 연구소 노벨위원회는 마이크로 RNA 발견에 기여한 공로를 인정해 올해 생리의학상 수상자로 두 사람을 선정했다고 발표했다.마이크로 RNA는 생물 유전자 발현을 제어하는 역할을 하는 작은 RNA 분자들의 집단, 리보핵산의 일종이다.수상자는 상금 1100만 스웨덴 크로나(약 13억4000만원)을 받는다.이날 노벨위원회는 생리의학상을 시작으로 8일 물리학상, 9일 화학상, 10일 문학상, 11일 평화상, 14일 경제학상 수상자를 차례로 발표한다.노벨상 시상식은 알프레드 노벨의 기일인 12월 10일 스웨덴 스톡홀름(생리의학·물리·화학·문학·경제상)과 노르웨이 오슬로(평화상)에서 열리는 게 관례다.이지영 기자 lee.jiyoung2@joongang.co.kr', 'category': 'world', 'source_created_at': '2024-10-07T18:36:58+09:00', 'press_id': 1}\n"
     ]
    },
    {
     "name": "stderr",
     "output_type": "stream",
     "text": [
      "INFO:root:category (base_url): 사회_사건 (https://www.joongang.co.kr/society/accident)\n",
      "DEBUG:urllib3.connectionpool:Starting new HTTPS connection (1): www.joongang.co.kr:443\n",
      "DEBUG:urllib3.connectionpool:https://www.joongang.co.kr:443 \"GET /society/accident HTTP/11\" 200 None\n",
      "DEBUG:root:Scraping article: https://www.joongang.co.kr/article/25281847\n",
      "DEBUG:urllib3.connectionpool:Starting new HTTPS connection (1): www.joongang.co.kr:443\n",
      "DEBUG:urllib3.connectionpool:https://www.joongang.co.kr:443 \"GET /article/25281847 HTTP/11\" 200 None\n",
      "INFO:root:page_category: 사회\n",
      "INFO:root:category: 사회_사건\n",
      "DEBUG:root:Scraping article: https://www.joongang.co.kr/article/25282017\n",
      "DEBUG:urllib3.connectionpool:Starting new HTTPS connection (1): www.joongang.co.kr:443\n",
      "DEBUG:urllib3.connectionpool:https://www.joongang.co.kr:443 \"GET /article/25282017 HTTP/11\" 200 None\n"
     ]
    },
    {
     "name": "stdout",
     "output_type": "stream",
     "text": [
      "{'title': '음주운전도 모자라 도주에 경찰 폭행까지…체포 뒤 또 도망갔다', 'source_url': 'https://www.joongang.co.kr/article/25281847', 'content': '고속도로 음주 운전에다 경찰관까지 폭행하고 달아난 40대 남성이 경찰에 붙잡혔다.서울 서초경찰서는 A씨를 공무집행방해, 음주 측정 거부 혐의로 전날 현행범 체포했다고 3일 밝혔다.A씨는 2일 오후 10시쯤 서울 서초구 경부고속도로 반포 나들목 인근에서 술을 마신 채 음주운전한 혐의를 받고 있다.음주운전의심 신고를 받고 출동한 경찰이 추적해오자 A씨는 차선을 넘나들며 위험한 도주를 시작했다. 이윽고 순찰차를 들이받고서야 멈춰섰다. 경찰은 1차 사고를 막기 위해 A씨를 본인 차량 뒷자리에 앉히고, 경찰관이 A씨 차량을 운전해 검거현장을 벗어났다. 하지만 A씨는 서초 IC 램프구간 갓길에 차량이 잠시 정차한 틈을 타 그대로 도주했다. A씨는 뒤쫓던 경찰관 두 명을 폭행까지 하며 버티다가 결국 제압됐다.경찰은 A씨를 상대로 구체적인 사건 경위를 조사할 예정이다.조문규 기자 chomg@joongang.co.kr', 'category': 'accident', 'source_created_at': '2024-10-03T15:45:31+09:00', 'press_id': 1}\n"
     ]
    },
    {
     "name": "stderr",
     "output_type": "stream",
     "text": [
      "INFO:root:page_category: 사회\n",
      "INFO:root:category: 사회_사건\n"
     ]
    },
    {
     "name": "stdout",
     "output_type": "stream",
     "text": [
      "{'title': '여수 PC방서 70대에 흉기 휘두른 60대 남성 살인미수 체포', 'source_url': 'https://www.joongang.co.kr/article/25282017', 'content': '뉴스1전남 여수경찰서는 4일 사소한 시비로 다투다가 흉기를 휘둘러 살인미수 혐의로 60대 남성 A씨를 붙잡아 조사하고 있다.A씨는 전날 오후 8시 11분께 여수시 봉산동 한 피시방에서 70대 B씨에게 흉기를 휘둘러 살해하려다 미수에 그친 혐의를 받는다.피시방 손님이었던 두 사람은 소음 문제로 다퉜고, A씨는 분이 풀리지 않아 집에서 흉기를 챙겨와 범행한 것으로 조사됐다.경찰은 A씨를 상대로 사건 경위를 조사해 구속영장을 신청할 방침이다.이해준 기자 lee.hayjune@joongang.co.kr', 'category': 'accident', 'source_created_at': '2024-10-04T08:07:36+09:00', 'press_id': 1}\n"
     ]
    },
    {
     "name": "stderr",
     "output_type": "stream",
     "text": [
      "INFO:root:category (base_url): 경제_과학 (https://www.joongang.co.kr/money/science)\n",
      "DEBUG:urllib3.connectionpool:Starting new HTTPS connection (1): www.joongang.co.kr:443\n",
      "DEBUG:urllib3.connectionpool:https://www.joongang.co.kr:443 \"GET /money/science HTTP/11\" 200 None\n",
      "DEBUG:root:Scraping article: https://www.joongang.co.kr/article/25281792\n",
      "DEBUG:urllib3.connectionpool:Starting new HTTPS connection (1): www.joongang.co.kr:443\n",
      "DEBUG:urllib3.connectionpool:https://www.joongang.co.kr:443 \"GET /article/25281792 HTTP/11\" 200 None\n",
      "INFO:root:page_category: 팩플\n",
      "INFO:root:category: 경제_과학\n",
      "INFO:root:https://www.joongang.co.kr/article/25281792 는 해당 카테고리가 아니어서 생략합니다. \n",
      "DEBUG:root:Scraping article: https://www.joongang.co.kr/article/25281793\n",
      "DEBUG:urllib3.connectionpool:Starting new HTTPS connection (1): www.joongang.co.kr:443\n",
      "DEBUG:urllib3.connectionpool:https://www.joongang.co.kr:443 \"GET /article/25281793 HTTP/11\" 200 None\n",
      "INFO:root:page_category: 팩플\n",
      "INFO:root:category: 경제_과학\n",
      "INFO:root:https://www.joongang.co.kr/article/25281793 는 해당 카테고리가 아니어서 생략합니다. \n",
      "DEBUG:root:Scraping article: https://www.joongang.co.kr/article/25281806\n",
      "DEBUG:urllib3.connectionpool:Starting new HTTPS connection (1): www.joongang.co.kr:443\n",
      "DEBUG:urllib3.connectionpool:https://www.joongang.co.kr:443 \"GET /article/25281806 HTTP/11\" 200 None\n",
      "INFO:root:page_category: 경제\n",
      "INFO:root:category: 경제_과학\n",
      "DEBUG:root:Scraping article: https://www.joongang.co.kr/article/25281845\n",
      "DEBUG:urllib3.connectionpool:Starting new HTTPS connection (1): www.joongang.co.kr:443\n"
     ]
    },
    {
     "name": "stdout",
     "output_type": "stream",
     "text": [
      "{'title': \"컴플렉시온, 중동 최대 IT 전시회 'GITEX Global 2024' 전시기업 선정\", 'source_url': 'https://www.joongang.co.kr/article/25281806', 'content': '디지털 헬스케어 스타트업 (주)컴플렉시온(COMPLEXION Co., Ltd)이 중동 최대 IT 및 기술 전시회인 GITEX Global 2024의 전시 기업으로 선정되었다. 매년 두바이에서 열리는 이 전시회는 글로벌 기업들이 혁신 기술을 선보이며 중동 시장으로 진출할 수 있는 기회를 제공하는 중요한 행사로 알려져 있다. 이번 전시회에서 컴플렉시온은 NIPA(정보통신산업진흥원)의 메타버스 한국 공동관의 8개 기업 중 1개 전시 기업으로 참가하게 되었으며, 중동 시장 진출의 교두보를 마련하게 되었다.‘평생 두 발 걷기’를 위한 맞춤형 움직임 콘텐츠를 제공하는 인공지능 헬스케어 기업인 컴플렉시온은 10개의 특허를 보유한 스타트업으로, 글로벌 기업 엔비디아와의 협업프로그램에 선정되어 최우수 수행을 완료한 바 있다. 현재는 고려대학교 컴퓨터학과, 인공지능학과와 공동연구(국가연구개발과제)를 6회 이상 진행하며 기술력을 고도화하고 있으며 이러한 기술력을 바탕으로 교육부의 미래형 인공지능 체육 APP을 개발해 운영 중이다.컴플렉시온은 개별 신체 데이터를 바탕으로 맞춤형 운동 콘텐츠를 제공하면서, 보유한 특허 기술을 바탕으로 하여, 스마트폰만을 이용한 인공지능 운동 콘텐츠를 개별 사용자와 센터, 학교, 가정 등에서 활용할 수 있는 맞춤형 헬스케어 솔루션으로 제공한다.이번 GITEX Global 2024에서는 무슬림 여성들이 겪는 문화적, 종교적 특수성을 고려한 헬스케어 솔루션에 중점을 두고 있다. 이슬람 율법에 의해 신체를 노출할 수 없고 혼성 운동이 금지된 무슬림 여성들은 운동할 수 있는 기회가 제한되어, 비만이나 당뇨병 같은 질병에 쉽게 노출되는 문제를 겪고 있다. 컴플렉시온은 ‘XR 히잡’, ‘메타버스 운동장’, 언택트 검진 및 피드백 등의 솔루션을 선보임으로써 무슬림 여성들이 안전하고 편리하게 체육 활동을 할 수 있는 솔루션을 제안한다.컴플렉시온은 올해 초 일본 최대 스타트업 전시회인 Startup JAPAN EXPO 2024에서도 성공적으로 일본 내 B2B 바이어 및 파트너를 발굴한 경험이 있으며, 이러한 성과를 바탕으로 중동 시장 진출을 자신 있게 추진하고 있다. UAE 현지의 체육 교육 전문가와 협력해 현지화된 애플리케이션을 개발 중이며, 과학기술정보통신부의 ‘S/W 고성장 클럽’ 사업에 예비 고성장기업으로 선정되어 중동 진출을 위한 연구개발 자금도 지원받고 있다.이번 GITEX Global 2024에서 컴플렉시온이 선보이는 혁신적인 AI와 메타버스 기술은 종교적, 문화적 제약을 극복하여 글로벌 시장으로의 확장을 가능케 하며, 디지털 헬스케어 스타트업의 새로운 도약을 예고하고 있다.김나혜 인턴기자 kim.nahye@joongang.co.kr', 'category': 'science', 'source_created_at': '2024-10-03T10:10:00+09:00', 'press_id': 1}\n"
     ]
    },
    {
     "name": "stderr",
     "output_type": "stream",
     "text": [
      "DEBUG:urllib3.connectionpool:https://www.joongang.co.kr:443 \"GET /article/25281845 HTTP/11\" 200 None\n",
      "INFO:root:page_category: Leader & Reader\n",
      "INFO:root:category: 경제_과학\n",
      "INFO:root:https://www.joongang.co.kr/article/25281845 는 해당 카테고리가 아니어서 생략합니다. \n",
      "DEBUG:root:Scraping article: https://www.joongang.co.kr/article/25281872\n",
      "DEBUG:urllib3.connectionpool:Starting new HTTPS connection (1): www.joongang.co.kr:443\n",
      "DEBUG:urllib3.connectionpool:https://www.joongang.co.kr:443 \"GET /article/25281872 HTTP/11\" 200 None\n",
      "INFO:root:page_category: 팩플\n",
      "INFO:root:category: 경제_과학\n",
      "INFO:root:https://www.joongang.co.kr/article/25281872 는 해당 카테고리가 아니어서 생략합니다. \n",
      "DEBUG:root:Scraping article: https://www.joongang.co.kr/article/25281886\n",
      "DEBUG:urllib3.connectionpool:Starting new HTTPS connection (1): www.joongang.co.kr:443\n",
      "DEBUG:urllib3.connectionpool:https://www.joongang.co.kr:443 \"GET /article/25281886 HTTP/11\" 200 None\n",
      "INFO:root:page_category: 경제\n",
      "INFO:root:category: 경제_과학\n"
     ]
    },
    {
     "name": "stdout",
     "output_type": "stream",
     "text": [
      "{'title': '\"갤럭시 폰 갑자기 왜 이래\" 불만 폭주…삼성전자 \"긴급 해결 중\"', 'source_url': 'https://www.joongang.co.kr/article/25281886', 'content': '2019년 출시된 갤럭시S10 5G의 실물 이미지. 사진 삼성전자삼성전자의 갤럭시 스마트폰 일부 구형 기종에서 단말기가 계속 꺼졌다 켜지는 ‘무한 재부팅’ 현상이 잇따르고 있다. 이에 삼성전자는 업데이트를 중단하고 긴급 해결 작업에 나섰다.3일 IT 업계 등에 따르면 삼성전자의 스마트싱스 앱을 업데이트한 갤럭시 구형 모델 이용자들이 무한 재부팅으로 인한 피해를 겪고 있다.삼성전자 홈페이지에 한 이용자가 공유한 갤럭시 오류 현상에 대한 삼성전자 측 안내문. 사진 삼성전자 홈페이지 캡처피해 이용자들이 올린 사례를 종합해 보면 전용 운영체제(OS)인 원UI 4.1 이하 버전이 적용된 갤럭시 S10 시리즈 전후의 모델에서 이런 현상이 생긴 것으로 보인다. 스마트싱스 앱 업데이트가 이뤄진 후 화면 멈춤 현상이 나타나고 재부팅 후에도 같은 현상이 되풀이 되는 식이다.이 기기를 사용 중인 이용자들은 가전제품이 연동된 스마트싱스 앱에서도 등록 단말 기기가 모두 사라지는 등의 불편을 겪기도 했다.수리를 위해 서비스센터를 찾은 일부 이용자들은 스마트폰 초기화 등 조치를 받았다. 다만 이 과정에서 일부 이용자들이 “내부의 사진·영상 등 데이터를 모두 잃어버렸다”며 불편을 호소하기도 했다.삼성전자는 이날 오후 공지를 내고 “갤럭시 S10 시리즈 등 과거 OS(안드로이드 12)가 탑재된 일부 스마트폰에서 스마트싱스 앱 최신 버전을 업데이트하는 도중 부팅이 반복되는 오류가 발생했다”며 “불편을 겪으신 고객 여러분들께 깊은 사과의 말씀을 드린다”고 밝혔다.이어 “해당 스마트싱스 앱의 문제를 인지한 즉시 업데이트를 중단했으며 현재 해결을 위한 작업을 긴급 진행 중”이라며 “불편을 겪으신 고객들께서는 가까운 삼성전자서비스센터를 방문하시면 문제 해결을 지원받으실 수 있다”고 안내했다.하수영 기자 ha.suyoung@joongang.co.kr', 'category': 'science', 'source_created_at': '2024-10-03T21:20:14+09:00', 'press_id': 1}\n"
     ]
    },
    {
     "name": "stderr",
     "output_type": "stream",
     "text": [
      "INFO:root:category (base_url): 사회 (https://www.joongang.co.kr/society)\n",
      "DEBUG:urllib3.connectionpool:Starting new HTTPS connection (1): www.joongang.co.kr:443\n",
      "DEBUG:urllib3.connectionpool:https://www.joongang.co.kr:443 \"GET /society HTTP/11\" 200 None\n",
      "DEBUG:root:Scraping article: https://www.joongang.co.kr/article/25282667\n",
      "DEBUG:urllib3.connectionpool:Starting new HTTPS connection (1): www.joongang.co.kr:443\n",
      "DEBUG:urllib3.connectionpool:https://www.joongang.co.kr:443 \"GET /article/25282667 HTTP/11\" 200 None\n",
      "INFO:root:page_category: 사회\n",
      "INFO:root:category: 사회\n",
      "DEBUG:root:Scraping article: https://www.joongang.co.kr/article/25282673\n",
      "DEBUG:urllib3.connectionpool:Starting new HTTPS connection (1): www.joongang.co.kr:443\n",
      "DEBUG:urllib3.connectionpool:https://www.joongang.co.kr:443 \"GET /article/25282673 HTTP/11\" 200 None\n"
     ]
    },
    {
     "name": "stdout",
     "output_type": "stream",
     "text": [
      "{'title': '[오늘의 운세] 10월 8일', 'source_url': 'https://www.joongang.co.kr/article/25282667', 'content': '2024년 10월 8일 화요일 (음력 9월 6일)쥐 - 재물 : 무난 건강 : 양호 사랑 : 기쁨 길방 : 南36년생 즐거운 지출을 할 수도 있다. 48년생 예상하지 못했던 일이 생길 수도. 60년생 지출도 하고 이익도 생길 수. 72년생 재테크에 관심을 갖자. 84년생 상생을 통해 발전을 도모하자. 96년생 융통성도 필요함.소 - 재물 : 무난 건강 : 양호 사랑 : 행복 길방 : 西37년생 사는 맛이 나는 하루일 듯. 49년생 집안에 좋은 일이 생길 수. 61년생 살아온 세월에 긍지를 갖자. 73년생 자부심과 보람을 맛볼 수도. 85년생 비전이 보일 수도 있다. 97년생 마음이 환희로 채워질 수도.호랑이 - 재물 : 지출 건강 : 주의 사랑 : 갈등 길방 : 東38년생 부상 안 생기게 조심. 50년생 세상에 공짜는 없는 법이다. 62년생 결정은 잠시 뒤로 미룰 것. 74년생 의심하고 또 의심할 것. 86년생 감정이 아닌 이성적인 판단을 하자. 98년생 피할 수 없다면 즐길 것.토끼 - 재물 : 보통 건강 : 보통 사랑 : 베풂 길방 : 北39년생 평범한 일상의 하루. 51년생 식욕 없어도 잘 먹자. 63년생 한가롭지만 권태로움이 생길 수. 75년생 몸을 자주 스트레칭 해 줄 것. 87년생 반은 믿고 반은 믿지 말라. 99년생 게을러지려는 자신과의 싸움.용 - 재물 : 무난 건강 : 양호 사랑 : 기쁨 길방 : 南40년생 유쾌, 통쾌, 상쾌. 52년생 계획이 순조롭게 진행될 수. 64년생 오늘 할 일은 미루지 말 것. 76년생 명분과 실리 모두 챙길 수도. 88년생 괜찮은 제안을 받을 수 있다. 00년생 유익한 정보가 생길 수도.뱀 - 재물 : 좋음 건강 : 튼튼 사랑 : 한마음 길방 : 南41년생 가족의 화목이 행복. 53년생 대화가 통하고 의기투합할 수. 65년생 적재적소에 일이 만들어질 수. 77년생 원 팀으로 뭉쳐야 성공함. 89년생 위에서 끌어주고 아래서 밀어줄 수. 01년생 신바람 나는 하루.말 - 재물 : 보통 건강 : 보통 사랑 : 질투 길방 : 北42년생 될 나무는 떡잎부터 다른 법이다. 54년생 발이 없는 말이 천 리를 가는 것. 66년생 자랑하지 말고 겸손할 것. 78년생 물속의 깊이는 알아도 사람 속은 모름. 90년생 천 리 길도 한 걸음부터 시작되는 것.양 - 재물 : 보통 건강 : 양호 사랑 : 기쁨 길방 : 西43년생 마음 가는 대로 해도 될 듯. 55년생 자신의 직관을 믿어 볼 것. 67년생 손실보다는 이익이 많을 수도. 79년생 알다가도 모르는 것이 사람 마음. 91년생 시작은 괜찮고 과정은 힘들고 결과는 무난할 수.원숭이 - 재물 : 지출 건강 : 주의 사랑 : 무지개 길방 : 北44년생 살갑게 다가오는 사람을 경계할 것. 56년생 원인이 없는 결과는 없는 법. 68년생 달걀을 한 바구니에 담아 두지 말 것. 80년생 아는 길도 물어서 가야 하는 것이다. 92년생 시작이 반, 일단 시작해 보자.닭 - 재물 : 지출 건강 : 주의 사랑 : 열정 길방 : 南45년생 사람이 많이 모여 있는 곳에 가지 말 것. 57년생 나이도 생각, 몸도 생각할 것. 69년생 계획과 현실의 상황은 다를 수 있다. 81년생 자신감이 있어도 능력을 감출 것. 93년생 끼와 재능을 드러내지 말라.개 - 재물 : 무난 건강 : 양호 사랑 : 기쁨 길방 : 東46년생 살아온 세월이 경험의 지혜로 빛나게 될 듯. 58년생 나이가 든다는 것은 늙는 것이 아니고 완성. 70년생 서로 이해관계가 맞아 떨어질 수. 82년생 꿩도 먹고 알도 먹자. 94년생 윗분과 교감이 통할 수도.돼지 - 재물 : 무난 건강 : 양호 사랑 : 만남 길방 : 南35년생 옛날보다 지금이 좋은 것. 47년생 두드리면 열릴 것이다. 59년생 반가운 소식이나 만남 생길 수. 71년생 유익한 하루가 될 듯. 83년생 발전적이고 돈 되는 하루 될 듯. 95년생 귀인이나 좋은 일 생길 수.오늘의 운세조규문(사주, 작명, 풍수 전문가)', 'category': 'society', 'source_created_at': '2024-10-08T00:01:02+09:00', 'press_id': 1}\n"
     ]
    },
    {
     "name": "stderr",
     "output_type": "stream",
     "text": [
      "INFO:root:page_category: 사회\n",
      "INFO:root:category: 사회\n"
     ]
    },
    {
     "name": "stdout",
     "output_type": "stream",
     "text": [
      "{'title': '진천 ‘2만t 쓰레기산’ 5년째 방치…안 치우나 못 치우나', 'source_url': 'https://www.joongang.co.kr/article/25282673', 'content': '충북 진천군 문백면 사양리 한 공터에 방치 폐기물이 5년 넘게 쌓여 있다. 프리랜서 김성태지난 3일 충북 진천군 문백면 사양리의 한 야산. 회색 철판으로 된 울타리 너머로 높이 7m쯤 되는 거대한 언덕이 보였다. 덩굴 식물과 잡초가 뒤엉켜 온통 초록빛이었다. 풀을 걷어내자 진짜 모습이 드러났다. 플라스틱병·의자·소파 내장재·폐건축자재 등 온갖 생활 폐기물이 겹겹이 쌓여있었다.이곳은 ‘진천 쓰레기산’이란 오명이 붙은 현장이다. 폐기물 중간재활용업체인 A사가 2018년부터 폐합성수지류 등 폐기물 2만3000t을 반입한 뒤 5년 넘게 방치 상태다. 허가받은 폐기물 보관용량(1200t)의 약 19배를 초과한 양이다. A사는 2020년 사업 허가가 취소된 뒤에도 쓰레기를 치우지 않았다. 쓰레기산 문제가 마을 밖으로 알려진 2021년 이후에도 마땅한 해결 방안을 찾지 못하면서 주변이 흉물처럼 변했다. 그 사이 업주가 구속됐고 땅 주인도 바뀌었다. 진천군은 A사가 맡긴 방치폐기물이행보증금 3억5000여만원으로 1380t을 치웠으나 나머지 폐기물은 여전히 처리되지 않고 있다.사업장 인근에서 만난 문모(87)씨는 “A사가 느닷없이 높은 벽을 치더니 밤낮으로 드나들며 고의로 쓰레기를 쌓았다”며 “진천군이 허가를 해줬으면 관리·감독을 철저하게 해야 했는데 그러지 못했다”고 지적했다.주민 권모(43)씨는 “쓰레기산이 오랫동안 방치되다 보니 비가 많이 오면 야적장에서 나온 물이 인근 논으로 흘러 들어가기도 한다”고 토로했다.사양리에 쓰레기산이 생긴 건 2018년 말부터다. 이 자리에 문을 연 A사는 폐합성수지류를 들여와 선별·파쇄·압축·포장 등 처리 과정을 거쳐 해외에 되파는 일을 했다. 사업장 규모는 1만250㎡다.쓰레기산이 처리되지 않은 가장 큰 이유는 땅 주인이 바뀌어서다. 해당 부지 토지대장에 따르면 이 땅은 2018년 9월 A사로 소유권이 이전됐다. 소유권 이전 전 이 부지 토지·건물 매매가는 12억5000만원으로 나온다. 이후 해당 부지에 여러 차례 가압류가 이뤄진 것으로 미뤄 A사는 자금난을 겪은 것으로 추정된다.A사 사업장 부지는 결국 법원 부동산 임의경매를 거쳐 2021년 7월께 사회복지법인 B사에 낙찰됐다. 수차례 유찰되면서 땅값은 감정가에 훨씬 못 미치는 1억8000여만원까지 떨어졌다.진천군 관계자는 “방치 폐기물 행정대집행을 준비하던 중에 사업장 부지가 팔리면서 바뀐 토지주(B사)를 상대로 2022년 2월 폐기물 처리 명령을 내렸다”며 “B사가 ‘진천군 행정처분이 부당하다’며 낸 소송에서 군이 패하는 바람에 쓰레기를 치우고 싶어도 치울 수 없게 됐다”고 말했다. 당시 재판에서 진천군은 “B사가 부적정 폐기물이 발생한 사업장을 인수했기 때문에 폐기물 관련 의무도 승계한 것으로 처리 명령이 정당했다”고 주장했다. 반면 B사는 “땅을 경락받았다고 해서 사업장폐기물과 관련한 권리와 의무를 승계한 것은 아니다”고 반박했다. 재판부는 “사양리에 폐기된 쓰레기가 폐기물관리법 적용을 받는 ‘사업장 폐기물’에 해당하지 않는다”며 B사의 손을 들어줬다. 진천군은 1심 판결에 불복해 항소했으나 패소했다. 진천군 관계자는 “자치단체에서 하라 말라 할 권한이 없어진 상태여서 난감하다. B사가 쓰레기가 쌓인 땅을 왜 샀는지 모르겠다”고 말했다.최종권 기자 choi.jongkwon@joongang.co.kr', 'category': 'society', 'source_created_at': '2024-10-08T00:01:02+09:00', 'press_id': 1}\n"
     ]
    },
    {
     "name": "stderr",
     "output_type": "stream",
     "text": [
      "INFO:root:category (base_url): 스포츠 (https://www.joongang.co.kr/sports)\n",
      "DEBUG:urllib3.connectionpool:Starting new HTTPS connection (1): www.joongang.co.kr:443\n",
      "DEBUG:urllib3.connectionpool:https://www.joongang.co.kr:443 \"GET /sports HTTP/11\" 200 None\n",
      "DEBUG:root:Scraping article: https://www.joongang.co.kr/article/25282253\n",
      "DEBUG:urllib3.connectionpool:Starting new HTTPS connection (1): www.joongang.co.kr:443\n",
      "DEBUG:urllib3.connectionpool:https://www.joongang.co.kr:443 \"GET /article/25282253 HTTP/11\" 200 None\n",
      "INFO:root:page_category: 스포츠\n",
      "INFO:root:category: 스포츠\n",
      "DEBUG:root:Scraping article: https://www.joongang.co.kr/article/25282254\n",
      "DEBUG:urllib3.connectionpool:Starting new HTTPS connection (1): www.joongang.co.kr:443\n",
      "DEBUG:urllib3.connectionpool:https://www.joongang.co.kr:443 \"GET /article/25282254 HTTP/11\" 200 None\n"
     ]
    },
    {
     "name": "stdout",
     "output_type": "stream",
     "text": [
      "{'title': '하루 쉬고 나와 4이닝 1실점… 최고 잠수함 위용 뽐낸 KT 고영표', 'source_url': 'https://www.joongang.co.kr/article/25282253', 'content': '5일 열린 준플레이오프 1차전 역투로 승리를 이끈 KT 위즈 고영표. 뉴스1국내 최고 잠수함 고영표(33·KT 위즈)가 기대에 부응했다. 연이은 불펜 투구 이후 선발로 나섰지만, 자신의 역할을 톡톡히 해냈다.KT는 5일 서울 잠실구장에서 열린 준플레이오프(PO·5전 3승제) 1차전에서 LG 트윈스를 3-2로 이겼다. 준PO 1차전에서 승리한 KT는 유리한 고지를 점령했다.고영표는 KBO리그에서 가장 안정적인 선발투수다. 최근 4시즌 동안 가장 많은 퀄리티 스타트(QS·6이닝 이상 3자책점 이하 투구, 72회)를 기록했다. 7이닝 이상 던지는 퀄리티 스타트 플러스도 1위(42회)다. 다만 올 시즌엔 주춤했다. 부상과 부진이 겹쳐 18경기에 나가 6승 8패 평균자책점 4.95에 머물렀다.하지만 중요한 순간 원래의 모습이 나타났다. 선발투수로 등판한 그는 4회 1사까지 단 한 명의 타자도 1루에 내보내지 않았다. 4회에 안타 3개를 맞고 1점을 내주긴 했지만 LG 타선을 초반에 봉쇄했다. 이날 경기 최우수선수상(MVP)도 고영표에게 돌아갔다.고영표는 최근 본래 보직이 아닌 구원투수로 두 번이나 나섰다. 지난 1일 SSG 랜더스와의 1위 결정전에서 1과 3분의 2이닝(무실점)을 던졌고, 3일 두산과의 와일드카드 결정 2차전에서도 1이닝(무실점)을 투구했다. 그래서 이강철 감독도 50개 정도만 던지게 하려 했다.최근 두 차례 구원 등판 이후 하루만에 나왔지만 승리를 이끈 고영표. 뉴스1고영표는 경기 뒤 \"감독님이 50개까지 생각하고 올렸는데 불편하면 빨리 말하고 했다. 불편하지 않았고, 100개까지 던질 수 있으니까 편하게 생각하시라고 했다. 4회 때 조금 지친 모습이 나와서 끊어가신 것 같다. 한 구 한 구 온 힘을 다해 던졌다\"고 했다.그는 \"물론 (정규시즌에)개인적으로 부진했고, 늦게 시작했다. 지금 컨디션이 올라온 거 같다. 팔꿈치, 어깨 피로도는 쌓이겠지만 힘은 있다. 불펜이든 선발이든 오가면서 던질 준비가 되어 있어 다행\"이라고 했다.고영표의 주무기는 체인지업이다. 이날 경기에서도 아래쪽에서 떠오르다 가라앉는 체인지업을 적극적으로 활용했다. 56개의 투구 중 37개가 체인지업이었다. 고영표는 \"내\\xa0장점을 잘 살린 경기라고 생각한다. 체인지업 낙폭이 중요한데 정규 시즌 막바지 투구를 거듭하면서 좋아졌다\"고 말했다.문상철의 2회 선제 투런포도 고영표에게 힘을 실었다. 고영표는 \"내가\\xa0마운드에 있을 때 상철이가 자주 홈런을 쳤다. 넘어가는 순간 \\'또 상철이네\\'란 생각을 했다. 지난해 한국시리즈 1차전 이길 때도 상철이가 (9회 결승 2루타를)쳤다. 궁합이 잘 맞는 거 같다. 리드를 안고 던지는 것과 동점에서 던지는 건 다르다. 공격적으로 던질 수 있었다\"고 했다.김효경 기자 kaypubb@joongang.co.kr', 'category': 'sports', 'source_created_at': '2024-10-05T17:30:25+09:00', 'press_id': 1}\n"
     ]
    },
    {
     "name": "stderr",
     "output_type": "stream",
     "text": [
      "INFO:root:page_category: 스포츠\n",
      "INFO:root:category: 스포츠\n"
     ]
    },
    {
     "name": "stdout",
     "output_type": "stream",
     "text": [
      "{'title': '준PO 1차전 잡은 KT 이강철 \"우리 야구 했다\"', 'source_url': 'https://www.joongang.co.kr/article/25282254', 'content': '준PO 1차전 승리 뒤 환하게 미소짓는 이강철 KT 위즈 감독(왼쪽 둘째). 연합뉴스KT의 마법이 또다시 가을을 수놓았다. 이강철 KT 위즈 감독은 \"우리 야구를 했다\"며 만족스러워했다.KT는 5일 서울 잠실구장에서 열린 준플레이오프(PO) 1차전에서 정규시즌 3위 LG를 3-2로 이겼다. 역대 준PO 1차전 승리 팀은 87.9%(33회 중 29차례) 확률로 PO에 진출했다.이강철 감독은 경기 뒤 \"우리 패턴대로 KT 야구를 했다. 고영표는 6회까지 던질 수 있다고 했다. 4회에 마운드에 올라 체크를 했는데, 조금씩 떨어지고 있어 교체했다. 다음 투수들이 너무 잘 던져줘서 승리할 수 있었다\"고 말했다.마운드 방문 뒤 고민스러운 표정의 이강철 감독. 뉴스1이강철 감독은 이날 문상철을 5번 타자·1루수로 기용했고,\\xa0문상철은 2회 초 선제 결승 투런포를 터트렸다. 이 감독은 \"타격코치가 기대해도 좋다고 말했다. 홈런을 쳐서 분위기를 잘 가져온 거 같다. 4회 말 실점으로 2-1이 된 뒤 5회 초 달아나는 추가점을 뽑은 게 (좋은)영향을 끼쳤다\"고 말했다.4회 수비에선 삐걱대는 모습이 있었다. 1사 1·3루에서 1루주자 신민재가 2루 도루를 했고, 포수 장성우의 송구를 내야수들이 잡지 못해 중견수 앞까지 굴러가 실점했다. 이 감독은 고민하다 \"사인 미스였다. 그때 분위기를 내줬다고 생각했는데 더 실점하지 않아서 이길 수 있다고 생각했다\"고 말했다.반대로 9회 2사 1루에선 LG 대주자 김대현의 도루 시도를 간파하고 2루에서 잡아내 경기를 마무리했다. 이 감독은 \"코치들이 \\'간다\\'고 이야기를 하더라. (송구 준비를 하기 위해)장성우 엉덩이가 올라가 있더라\"며 웃었다.이날 KT는 성공적으로 투수진을 운용했다. 하루 휴식 후 나선 선발 고영표가 4이닝 1실점했고,\\xa0두 번째 투수 김민수가 2이닝 1실점(비자책)으로 버텼다. 이후 손동현, 소형준, 박영현이 1이닝씩을 무실점으로 막았다.이강철 감독은 \"소형준은 아직 연투가 어려워서 내일은 쉬게 한다. 구속이 좋아서 9회에도 내보낼까 살짝 고민했다. 박영현은 많이 던지게 해야 볼이 좋아지는 편이라 순리대로 갔다\"고 설명했다.한편 염경엽 LG 감독은 \"꼭 이기고 싶었는데 져서 아쉽다. 선제점을 주면서 끌려가는 경기가 됐다. 찬스들이 왔는데 살리지 못했다\"고 말했다. 이어 \"(타순 변경은)고민해보겠다. 핵심선수들이 맞아야 하는데 오늘 타이밍이 잘 안 맞았다. 타격코치와 상의를 하려고 한다\"고 말했다.시즌 중 선발로 활약했던 손주영은 불펜에서 대기했으나 등판하진 않았다. 염 감독은 \"동점이 되려면 쓰려고 했다. 8, 9회가 더 중요하다고 생각해 8회에 넣으려고 했으나 (2-3이라) 넣지 않았다. 에르난데스의 투구 수가 많아지면 바꿀 생각을 했다\"고 설명했다. 9회 2사 1루에서 대주자 김대원의 도루 시도에 대해선 \"작전이었다. 송구가 정확했다. 김대원이 어제까지 퓨처스 경기를 하고 와서 최승민보다 먼저 기용했다\"고 설명했다.김효경 기자 kaypubb@joongang.co.kr', 'category': 'sports', 'source_created_at': '2024-10-05T17:40:05+09:00', 'press_id': 1}\n"
     ]
    }
   ],
   "source": [
    "import requests\n",
    "from bs4 import BeautifulSoup\n",
    "import pandas as pd\n",
    "import time\n",
    "import logging\n",
    "from urllib.parse import urlparse\n",
    "\n",
    "FASTAPI_URL = 'https://j11a301.p.ssafy.io/video'\n",
    "\n",
    "def lambda_handler(event, context):\n",
    "    \n",
    "    return {\n",
    "        'statusCode': 200,\n",
    "        'body': 'joongang-news-crawler from Lambda is do!'\n",
    "    }\n",
    "\n",
    "logging.basicConfig(level='DEBUG')\n",
    "\n",
    "header = {'User-Agent': ('Mozilla/5.0 (Windows NT 10.0; Win64; x64) AppleWebKit/537.36 '\n",
    "                         '(KHTML, like Gecko) Chrome/104.0.0.0 Safari/537.36'),}\n",
    "\n",
    "categories = {\n",
    "    '정치': 'https://www.joongang.co.kr/politics',\n",
    "    '경제': 'https://www.joongang.co.kr/money',\n",
    "    '국제': 'https://www.joongang.co.kr/world',\n",
    "    '사회_사건': 'https://www.joongang.co.kr/society/accident', # 앞 분기 기준\n",
    "    '경제_과학': 'https://www.joongang.co.kr/money/science', # 앞 분기 기준\n",
    "    '사회': 'https://www.joongang.co.kr/society',\n",
    "    '스포츠': 'https://www.joongang.co.kr/sports',\n",
    "}\n",
    "\n",
    "\n",
    "result_categories = {\n",
    "    '정치': 'politics',\n",
    "    '경제': 'economy',\n",
    "    '국제': 'world',\n",
    "    '사회_사건': 'accident',\n",
    "    '경제_과학': 'science',\n",
    "    '사회': 'society',\n",
    "    '스포츠': 'sports',\n",
    "}\n",
    "\n",
    "def scrap_article(article_url, category):\n",
    "    response = requests.get(article_url, headers=header)\n",
    "    soup = BeautifulSoup(response.text, 'html.parser')\n",
    "\n",
    "    try:\n",
    "\n",
    "        page_category = soup.find('a', {'class': 'title'}).get_text(strip=True)\n",
    "        logging.info(f\"page_category: {page_category}\")\n",
    "        \n",
    "        logging.info(f\"category: {category}\")\n",
    "\n",
    "        category_parts = category.split('_')\n",
    "        \n",
    "        # 카테고리가 아닌 글은 패스\n",
    "        if page_category not in category_parts:\n",
    "            logging.info(f\"{article_url} 는 해당 카테고리가 아니어서 생략합니다. \")\n",
    "            return None\n",
    "    except AttributeError:\n",
    "        logging.error(f\"{article_url} 는 찾을 수 없습니다.\")\n",
    "        return None\n",
    "\n",
    "    # 헤드라인 스크랩\n",
    "    try:\n",
    "        title = soup.find('h1', {'class': 'headline'}).get_text(strip=True)\n",
    "    except AttributeError:\n",
    "        title = 'N/A'\n",
    "\n",
    "    # 생성일 스크랩\n",
    "    try:\n",
    "        date = soup.find('p', {'class': 'date'})\n",
    "        time = date.find('time').get('datetime')\n",
    "    except AttributeError:\n",
    "        time = 'N/A'\n",
    "\n",
    "    # 본문 스크랩\n",
    "    try:\n",
    "        content = soup.find('div', {'class': 'article_body'}).get_text(strip=True)\n",
    "    except AttributeError:\n",
    "        content = 'N/A'\n",
    "\n",
    "    result_category = result_categories.get(category, 'unknown')\n",
    "\n",
    "    return {'title': title, 'source_url': article_url, 'content': content, 'category': result_category, 'source_created_at': time, \"press_id\": 1}\n",
    "\n",
    "def post_article_to_server(article_data):\n",
    "    \n",
    "    headers = {'Content-Type': 'application/json'}\n",
    "    \n",
    "    try:\n",
    "        response = requests.post(FASTAPI_URL, json=article_data, headers=headers)\n",
    "        response.raise_for_status()\n",
    "        logging.info(f'\\'statusCode\\': 200 \\n\\'body\\': \\'요청 성공\\'')\n",
    "    except requests.exceptions.RequestException as e:\n",
    "        logging.error(f'\\'statusCode\\': 500 \\n\\'Internal Server Error\\': {e}')\n",
    "\n",
    "def check_for_new_articles(base_url, category):\n",
    "    response = requests.get(base_url, headers=header)\n",
    "    soup = BeautifulSoup(response.text, 'html.parser')\n",
    "\n",
    "    article_count = 0\n",
    "    cards = soup.find_all('li', class_='card')\n",
    "    cards.reverse()\n",
    "    for card in cards:\n",
    "        if article_count >= 2:\n",
    "            break\n",
    "\n",
    "        link_tag = card.find('a', href=True)\n",
    "        if link_tag and 'href' in link_tag.attrs:\n",
    "            article_link = link_tag['href']\n",
    "        else:\n",
    "            logging.warning(\"article_link is None or missing 'href'.\")\n",
    "            continue\n",
    "    \n",
    "        logging.debug(f\"Scraping article: {article_link}\")\n",
    "\n",
    "        result = scrap_article(article_link, category)\n",
    "\n",
    "        if result is None:\n",
    "            continue\n",
    "\n",
    "        # post_article_to_server(result) # 서버가 완성되면 주석을 풀어라...\n",
    "        print(result)\n",
    "        article_count += 1\n",
    "\n",
    "def scrap_all_categories():\n",
    "    \n",
    "    for category, base_url in categories.items():\n",
    "        logging.info(f\"category (base_url): {category} ({base_url})\")\n",
    "        check_for_new_articles(base_url, category)\n",
    "        time.sleep(2)\n",
    "\n",
    "scrap_all_categories()"
   ]
  }
 ],
 "metadata": {
  "kernelspec": {
   "display_name": "Python 3",
   "language": "python",
   "name": "python3"
  },
  "language_info": {
   "codemirror_mode": {
    "name": "ipython",
    "version": 3
   },
   "file_extension": ".py",
   "mimetype": "text/x-python",
   "name": "python",
   "nbconvert_exporter": "python",
   "pygments_lexer": "ipython3",
   "version": "3.11.9"
  }
 },
 "nbformat": 4,
 "nbformat_minor": 2
}
